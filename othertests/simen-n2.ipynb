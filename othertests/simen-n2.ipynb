{
 "cells": [
  {
   "cell_type": "code",
   "execution_count": 1,
   "metadata": {
    "collapsed": true
   },
   "outputs": [],
   "source": [
    "%matplotlib inline\n",
    "import numpy as np\n",
    "from pyquante2 import *\n",
    "from pyquante2.scf.iterators import AveragingIterator\n",
    "import matplotlib.pyplot as plt"
   ]
  },
  {
   "cell_type": "markdown",
   "metadata": {},
   "source": [
    "Compute RHF on N2 molecule for interatomic\n",
    "separation R in a range with N points."
   ]
  },
  {
   "cell_type": "code",
   "execution_count": 9,
   "metadata": {},
   "outputs": [
    {
     "name": "stdout",
     "output_type": "stream",
     "text": [
      "Solving for R = 0.5 ...\n",
      "-100.573\n",
      "\n",
      "Solving for R = 0.604167 ...\n",
      "-103.98\n",
      "\n",
      "Solving for R = 0.708333 ...\n",
      "-105.805\n",
      "\n",
      "Solving for R = 0.8125 ...\n",
      "-106.765\n",
      "\n",
      "Solving for R = 0.916667 ...\n",
      "-107.241\n",
      "\n",
      "Solving for R = 1.02083 ...\n",
      "-107.445\n",
      "\n",
      "Solving for R = 1.125 ...\n",
      "-106.805\n",
      "\n",
      "Solving for R = 1.22917 ...\n",
      "-106.902\n",
      "\n",
      "Solving for R = 1.33333 ...\n",
      "-106.945\n",
      "\n",
      "Solving for R = 1.4375 ...\n",
      "-106.959\n",
      "\n",
      "Solving for R = 1.54167 ...\n",
      "-106.957\n",
      "\n",
      "Solving for R = 1.64583 ...\n",
      "-106.947\n",
      "\n",
      "Solving for R = 1.75 ...\n",
      "-106.712\n",
      "\n",
      "Solving for R = 1.85417 ...\n",
      "-106.743\n",
      "\n",
      "Solving for R = 1.95833 ...\n",
      "-106.766\n",
      "\n",
      "Solving for R = 2.0625 ...\n",
      "-106.781\n",
      "\n",
      "Solving for R = 2.16667 ...\n",
      "-106.792\n",
      "\n",
      "Solving for R = 2.27083 ...\n",
      "-106.8\n",
      "\n",
      "Solving for R = 2.375 ...\n",
      "-106.805\n",
      "\n",
      "Solving for R = 2.47917 ...\n",
      "-106.808\n",
      "\n",
      "Solving for R = 2.58333 ...\n",
      "-106.809\n",
      "\n",
      "Solving for R = 2.6875 ...\n",
      "-106.81\n",
      "\n",
      "Solving for R = 2.79167 ...\n",
      "-106.81\n",
      "\n",
      "Solving for R = 2.89583 ...\n",
      "-106.809\n",
      "\n",
      "Solving for R = 3 ...\n",
      "-106.808\n",
      "\n"
     ]
    }
   ],
   "source": [
    "N = 25\n",
    "R_vec = np.linspace(0.5, 3.0, N)\n",
    "E_vec = np.zeros((N,))\n",
    "for k in range(N):\n",
    "    R = R_vec[k]\n",
    "    print \"Solving for R = %g ...\" % R\n",
    "    n2 = molecule([(7,0,0,-R/2),(7,0,0,R/2)],units='Angstrom')\n",
    "    bfs = basisset(n2,'sto3g')\n",
    "    solver = rhf(n2,bfs)\n",
    "    #ens = solver.converge()\n",
    "    ens = solver.converge(AveragingIterator,maxiters=100)\n",
    "    E_vec[k] = solver.energy\n",
    "    print \"%g\\n\" % solver.energy"
   ]
  },
  {
   "cell_type": "code",
   "execution_count": 7,
   "metadata": {},
   "outputs": [
    {
     "data": {
      "image/png": "[encoded data removed]",
      "text/plain": [
       "<matplotlib.figure.Figure at 0x10e2ead90>"
      ]
     },
     "metadata": {},
     "output_type": "display_data"
    }
   ],
   "source": [
    "    \n",
    "plt.figure()\n",
    "plt.plot(R_vec, E_vec)\n",
    "plt.show()"
   ]
  },
  {
   "cell_type": "code",
   "execution_count": 17,
   "metadata": {
    "collapsed": true
   },
   "outputs": [],
   "source": [
    "def n2_mol(R): return molecule([(7,0,0,-R/2),(7,0,0,R/2)],units='Angstrom')\n",
    "def get_n2_energy(R,**kwargs): return get_energy(n2_mol(R),**kwargs)\n",
    "\n",
    "def get_energy(geo,basis='sto3g',returnall=False):\n",
    "    bfs = basisset(geo,basis)\n",
    "    solver = rhf(geo,bfs)\n",
    "    ens = solver.converge()\n",
    "    if returnall: return ens\n",
    "    return ens[-1]"
   ]
  },
  {
   "cell_type": "code",
   "execution_count": 18,
   "metadata": {},
   "outputs": [
    {
     "name": "stdout",
     "output_type": "stream",
     "text": [
      "0.900 -107.187\n",
      "0.950 -107.329\n",
      "0.975 -107.380\n",
      "1.000 -107.420\n",
      "1.025 -107.450\n",
      "1.050 -106.680\n",
      "1.100 -106.770\n"
     ]
    }
   ],
   "source": [
    "Rs = [0.9,0.95,0.975,1.0,1.025,1.05,1.1]\n",
    "Es = []\n",
    "for R in Rs:\n",
    "    n2 = molecule([(7,0,0,-R/2),(7,0,0,R/2)],units='Angstrom')\n",
    "    bfs = basisset(n2,'sto3g')\n",
    "    solver = rhf(n2,bfs)\n",
    "    #ens = solver.converge(AveragingIterator,maxiters=100)\n",
    "    ens = solver.converge()\n",
    "    Es.append(solver.energy)\n",
    "    print \"%.3f %.3f\" % (R,solver.energy)"
   ]
  },
  {
   "cell_type": "code",
   "execution_count": 19,
   "metadata": {},
   "outputs": [
    {
     "data": {
      "text/plain": [
       "[<matplotlib.lines.Line2D at 0x118ccd150>]"
      ]
     },
     "execution_count": 19,
     "metadata": {},
     "output_type": "execute_result"
    },
    {
     "data": {
      "image/png": "[encoded data removed]",
      "text/plain": [
       "<matplotlib.figure.Figure at 0x118cc5f10>"
      ]
     },
     "metadata": {},
     "output_type": "display_data"
    }
   ],
   "source": [
    "plt.plot(Rs,Es)"
   ]
  },
  {
   "cell_type": "code",
   "execution_count": 20,
   "metadata": {},
   "outputs": [
    {
     "data": {
      "text/plain": [
       "[-103.69380801661737,\n",
       " -107.42054442138182,\n",
       " -107.44869965555364,\n",
       " -107.44991333373426,\n",
       " -107.44996793409052]"
      ]
     },
     "execution_count": 20,
     "metadata": {},
     "output_type": "execute_result"
    }
   ],
   "source": [
    "get_n2_energy(1.025,returnall=True)"
   ]
  },
  {
   "cell_type": "code",
   "execution_count": 22,
   "metadata": {},
   "outputs": [
    {
     "data": {
      "text/plain": [
       "[-103.84150710154371,\n",
       " -106.6555720985487,\n",
       " -106.67890976939941,\n",
       " -106.67968004223863,\n",
       " -106.67971298551639]"
      ]
     },
     "execution_count": 22,
     "metadata": {},
     "output_type": "execute_result"
    }
   ],
   "source": [
    "get_n2_energy(1.05,returnall=True)"
   ]
  },
  {
   "cell_type": "code",
   "execution_count": 23,
   "metadata": {
    "collapsed": true
   },
   "outputs": [],
   "source": [
    "Enukes = [n2_mol(R).nuclear_repulsion() for R in Rs]"
   ]
  },
  {
   "cell_type": "code",
   "execution_count": 24,
   "metadata": {},
   "outputs": [
    {
     "data": {
      "text/plain": [
       "[<matplotlib.lines.Line2D at 0x118e0ce90>]"
      ]
     },
     "execution_count": 24,
     "metadata": {},
     "output_type": "execute_result"
    },
    {
     "data": {
      "image/png": "[encoded data removed]",
      "text/plain": [
       "<matplotlib.figure.Figure at 0x118e91a90>"
      ]
     },
     "metadata": {},
     "output_type": "display_data"
    }
   ],
   "source": [
    "plt.plot(Rs,Enukes)"
   ]
  },
  {
   "cell_type": "code",
   "execution_count": 9,
   "metadata": {},
   "outputs": [],
   "source": [
    "from pyquante2.scf.mcscf import gvb"
   ]
  },
  {
   "cell_type": "code",
   "execution_count": 26,
   "metadata": {},
   "outputs": [
    {
     "name": "stdout",
     "output_type": "stream",
     "text": [
      "----GVB calculation on N2 at R=0.900\n",
      "**** PyQuante GVB ****\n",
      "Stoichiometry = N2, Charge = 0, Multiplicity = 1\n",
      "7 N     0.000000     0.000000    -0.850377\n",
      "7 N     0.000000     0.000000     0.850377\n",
      "Nuclear repulsion energy: 28.811\n",
      "Basis set: sto3g\n",
      "  ncore/open/pair: 7,0,0\n",
      "  occ/bf/orb: 7,10,10\n",
      "Shell 0\n",
      "  occupation = 1.00\n",
      "  orbitals in shell [0, 1, 2, 3, 4, 5, 6]\n",
      "  couplings to other shells [(2.0, -1.0)]\n",
      "Starting guess at orbitals:\n",
      "[[ -7.0780e-01  -7.0841e-01   1.5671e-01   9.2773e-16   3.4306e-16\n",
      "    1.5457e-01  -2.8848e-16   6.4803e-16   9.9153e-02  -8.2175e-02]\n",
      " [  4.6782e-03   2.6677e-03  -2.7894e-01  -1.2061e-14  -6.0772e-15\n",
      "   -2.2505e+00   4.9578e-15  -8.2818e-15  -5.5206e-01  -4.3456e-01]\n",
      " [  7.2546e-20   1.1095e-16  -1.2815e-15   4.5318e-01  -3.8811e-01\n",
      "    4.9231e-16   9.1216e-01  -8.7003e-02   2.2031e-15   7.8711e-16]\n",
      " [ -1.1062e-16   1.1062e-16   1.1764e-15  -3.8811e-01  -4.5318e-01\n",
      "   -9.5030e-16   8.7003e-02   9.1216e-01   1.5582e-15   2.6686e-15]\n",
      " [ -5.0058e-03  -6.0813e-03  -4.6900e-01  -8.0938e-15  -3.5467e-15\n",
      "   -1.2816e+00   1.8651e-15  -3.7817e-15   4.9565e-01  -1.0808e+00]\n",
      " [ -7.0780e-01   7.0841e-01   1.5671e-01  -5.7129e-16  -1.6943e-16\n",
      "   -1.5457e-01   1.4097e-16  -1.0284e-15   9.9153e-02   8.2175e-02]\n",
      " [  4.6782e-03  -2.6677e-03  -2.7894e-01   1.1609e-14   4.7523e-15\n",
      "    2.2505e+00  -3.3062e-15   9.7330e-15  -5.5206e-01   4.3456e-01]\n",
      " [ -1.7935e-19   1.7925e-19  -1.2548e-16   4.5318e-01  -3.8811e-01\n",
      "   -3.4130e-15  -9.1216e-01   8.7003e-02  -8.8347e-16  -2.9908e-16]\n",
      " [ -9.8467e-19   9.8600e-19   1.1081e-16  -3.8811e-01  -4.5318e-01\n",
      "    6.7411e-15  -8.7003e-02  -9.1216e-01  -6.2712e-16  -9.7080e-16]\n",
      " [  5.0058e-03  -6.0813e-03   4.6900e-01  -6.4927e-15  -4.7761e-15\n",
      "   -1.2816e+00   4.1235e-15  -3.2508e-15  -4.9565e-01  -1.0808e+00]]\n",
      "Shell array: [0, 0, 0, 0, 0, 0, 0]\n",
      "****\n",
      "ROTION Delta Matrix\n",
      "[[ 0.  0.  0.  0.  0.  0.  0.]\n",
      " [ 0.  0.  0.  0.  0.  0.  0.]\n",
      " [ 0.  0.  0.  0.  0.  0.  0.]\n",
      " [ 0.  0.  0.  0.  0.  0.  0.]\n",
      " [ 0.  0.  0.  0.  0.  0.  0.]\n",
      " [ 0.  0.  0.  0.  0.  0.  0.]\n",
      " [ 0.  0.  0.  0.  0.  0.  0.]]\n",
      "---- 1 :   -102.8434    28.8108  -101.1222    70.5903\n",
      "ROTION Delta Matrix\n",
      "[[ 0.  0.  0.  0.  0.  0.  0.]\n",
      " [ 0.  0.  0.  0.  0.  0.  0.]\n",
      " [ 0.  0.  0.  0.  0.  0.  0.]\n",
      " [ 0.  0.  0.  0.  0.  0.  0.]\n",
      " [ 0.  0.  0.  0.  0.  0.  0.]\n",
      " [ 0.  0.  0.  0.  0.  0.  0.]\n",
      " [ 0.  0.  0.  0.  0.  0.  0.]]\n",
      "---- 2 :   -107.1513    28.8108  -100.4065    64.8509\n",
      "ROTION Delta Matrix\n",
      "[[ 0.  0.  0.  0.  0.  0.  0.]\n",
      " [ 0.  0.  0.  0.  0.  0.  0.]\n",
      " [ 0.  0.  0.  0.  0.  0.  0.]\n",
      " [ 0.  0.  0.  0.  0.  0.  0.]\n",
      " [ 0.  0.  0.  0.  0.  0.  0.]\n",
      " [ 0.  0.  0.  0.  0.  0.  0.]\n",
      " [ 0.  0.  0.  0.  0.  0.  0.]]\n",
      "---- 3 :   -107.1860    28.8108  -100.3656    64.7345\n",
      "ROTION Delta Matrix\n",
      "[[ 0.  0.  0.  0.  0.  0.  0.]\n",
      " [ 0.  0.  0.  0.  0.  0.  0.]\n",
      " [ 0.  0.  0.  0.  0.  0.  0.]\n",
      " [ 0.  0.  0.  0.  0.  0.  0.]\n",
      " [ 0.  0.  0.  0.  0.  0.  0.]\n",
      " [ 0.  0.  0.  0.  0.  0.  0.]\n",
      " [ 0.  0.  0.  0.  0.  0.  0.]]\n",
      "---- 4 :   -107.1871    28.8108  -100.3584    64.7189\n",
      "ROTION Delta Matrix\n",
      "[[ 0.  0.  0.  0.  0.  0.  0.]\n",
      " [ 0.  0.  0.  0.  0.  0.  0.]\n",
      " [ 0.  0.  0.  0.  0.  0.  0.]\n",
      " [ 0.  0.  0.  0.  0.  0.  0.]\n",
      " [ 0.  0.  0.  0.  0.  0.  0.]\n",
      " [ 0.  0.  0.  0.  0.  0.  0.]\n",
      " [ 0.  0.  0.  0.  0.  0.  0.]]\n",
      "---- 5 :   -107.1872    28.8108  -100.3571    64.7162\n",
      "Energy converged\n",
      "----GVB calculation on N2 at R=0.950\n",
      "**** PyQuante GVB ****\n",
      "Stoichiometry = N2, Charge = 0, Multiplicity = 1\n",
      "7 N     0.000000     0.000000    -0.897620\n",
      "7 N     0.000000     0.000000     0.897620\n",
      "Nuclear repulsion energy: 27.294\n",
      "Basis set: sto3g\n",
      "  ncore/open/pair: 7,0,0\n",
      "  occ/bf/orb: 7,10,10\n",
      "Shell 0\n",
      "  occupation = 1.00\n",
      "  orbitals in shell [0, 1, 2, 3, 4, 5, 6]\n",
      "  couplings to other shells [(2.0, -1.0)]\n",
      "Starting guess at orbitals:\n",
      "[[ -7.0792e-01  -7.0842e-01   1.4746e-01  -1.4191e-14  -1.6416e-14\n",
      "   -1.6334e-01   5.4852e-16  -3.1084e-16  -1.0269e-01   8.3468e-02]\n",
      " [  4.6289e-03   5.0286e-03  -2.8983e-01   1.7109e-13   1.9876e-13\n",
      "    1.9731e+00  -5.7751e-15   3.2758e-15   5.5178e-01   1.9018e-01]\n",
      " [  1.1070e-16  -1.1070e-16   1.2359e-15   6.0305e-01  -3.5695e-02\n",
      "   -4.6554e-14   7.7309e-01   4.4279e-01  -5.8961e-16  -1.8708e-15]\n",
      " [ -1.1072e-16   1.1072e-16   2.4263e-16   3.5695e-02   6.0305e-01\n",
      "   -6.1357e-14   4.4279e-01  -7.7309e-01   7.5753e-16  -6.7561e-16]\n",
      " [ -4.5096e-03  -3.9955e-03  -4.5612e-01   1.0517e-13   1.2163e-13\n",
      "    1.2010e+00  -2.1554e-15   1.6720e-15  -4.9228e-01   9.5328e-01]\n",
      " [ -7.0792e-01   7.0842e-01   1.4746e-01   1.3764e-14   1.6340e-14\n",
      "    1.6334e-01  -7.8501e-16   1.7889e-16  -1.0269e-01  -8.3468e-02]\n",
      " [  4.6289e-03  -5.0286e-03  -2.8983e-01  -1.7026e-13  -1.9911e-13\n",
      "   -1.9731e+00   6.1600e-15  -2.3547e-15   5.5178e-01  -1.9018e-01]\n",
      " [  8.6324e-19  -8.6350e-19   1.1032e-16   6.0305e-01  -3.5695e-02\n",
      "   -5.0305e-14  -7.7309e-01  -4.4279e-01   2.2448e-16   6.3022e-16]\n",
      " [ -8.1411e-19   8.1466e-19   1.9389e-17   3.5695e-02   6.0305e-01\n",
      "   -6.6404e-14  -4.4279e-01   7.7309e-01  -2.4696e-16   2.5062e-16]\n",
      " [  4.5096e-03  -3.9955e-03   4.5612e-01   1.0447e-13   1.2110e-13\n",
      "    1.2010e+00  -2.6543e-15   2.2067e-15   4.9228e-01   9.5328e-01]]\n",
      "Shell array: [0, 0, 0, 0, 0, 0, 0]\n",
      "****\n",
      "ROTION Delta Matrix\n",
      "[[ 0.  0.  0.  0.  0.  0.  0.]\n",
      " [ 0.  0.  0.  0.  0.  0.  0.]\n",
      " [ 0.  0.  0.  0.  0.  0.  0.]\n",
      " [ 0.  0.  0.  0.  0.  0.  0.]\n",
      " [ 0.  0.  0.  0.  0.  0.  0.]\n",
      " [ 0.  0.  0.  0.  0.  0.  0.]\n",
      " [ 0.  0.  0.  0.  0.  0.  0.]]\n",
      "---- 1 :   -103.1909    27.2944  -100.1315    69.7777\n",
      "ROTION Delta Matrix\n",
      "[[ 0.  0.  0.  0.  0.  0.  0.]\n",
      " [ 0.  0.  0.  0.  0.  0.  0.]\n",
      " [ 0.  0.  0.  0.  0.  0.  0.]\n",
      " [ 0.  0.  0.  0.  0.  0.  0.]\n",
      " [ 0.  0.  0.  0.  0.  0.  0.]\n",
      " [ 0.  0.  0.  0.  0.  0.  0.]\n",
      " [ 0.  0.  0.  0.  0.  0.  0.]]\n",
      "---- 2 :   -107.2969    27.2944   -99.2646    63.9379\n",
      "ROTION Delta Matrix\n",
      "[[ 0.  0.  0.  0.  0.  0.  0.]\n",
      " [ 0.  0.  0.  0.  0.  0.  0.]\n",
      " [ 0.  0.  0.  0.  0.  0.  0.]\n",
      " [ 0.  0.  0.  0.  0.  0.  0.]\n",
      " [ 0.  0.  0.  0.  0.  0.  0.]\n",
      " [ 0.  0.  0.  0.  0.  0.  0.]\n",
      " [ 0.  0.  0.  0.  0.  0.  0.]]\n",
      "---- 3 :   -107.3275    27.2944   -99.2145    63.8071\n",
      "ROTION Delta Matrix\n",
      "[[ 0.  0.  0.  0.  0.  0.  0.]\n",
      " [ 0.  0.  0.  0.  0.  0.  0.]\n",
      " [ 0.  0.  0.  0.  0.  0.  0.]\n",
      " [ 0.  0.  0.  0.  0.  0.  0.]\n",
      " [ 0.  0.  0.  0.  0.  0.  0.]\n",
      " [ 0.  0.  0.  0.  0.  0.  0.]\n",
      " [ 0.  0.  0.  0.  0.  0.  0.]]\n",
      "---- 4 :   -107.3287    27.2944   -99.2053    63.7875\n",
      "ROTION Delta Matrix\n",
      "[[ 0.  0.  0.  0.  0.  0.  0.]\n",
      " [ 0.  0.  0.  0.  0.  0.  0.]\n",
      " [ 0.  0.  0.  0.  0.  0.  0.]\n",
      " [ 0.  0.  0.  0.  0.  0.  0.]\n",
      " [ 0.  0.  0.  0.  0.  0.  0.]\n",
      " [ 0.  0.  0.  0.  0.  0.  0.]\n",
      " [ 0.  0.  0.  0.  0.  0.  0.]]\n",
      "---- 5 :   -107.3287    27.2944   -99.2035    63.7838\n",
      "Energy converged\n",
      "----GVB calculation on N2 at R=0.975\n",
      "**** PyQuante GVB ****\n",
      "Stoichiometry = N2, Charge = 0, Multiplicity = 1\n",
      "7 N     0.000000     0.000000    -0.921241\n",
      "7 N     0.000000     0.000000     0.921241\n",
      "Nuclear repulsion energy: 26.595\n",
      "Basis set: sto3g\n",
      "  ncore/open/pair: 7,0,0\n",
      "  occ/bf/orb: 7,10,10\n",
      "Shell 0\n",
      "  occupation = 1.00\n",
      "  orbitals in shell [0, 1, 2, 3, 4, 5, 6]\n",
      "  couplings to other shells [(2.0, -1.0)]\n",
      "Starting guess at orbitals:\n",
      "[[ -7.0796e-01  -7.0843e-01   1.4344e-01  -1.6657e-01   1.9309e-15\n",
      "    3.1243e-15   3.0476e-16   5.7318e-16  -1.0423e-01   8.3778e-02]\n",
      " [  4.6099e-03   5.7457e-03  -2.9542e-01   1.8518e+00  -2.0888e-14\n",
      "   -3.4206e-14  -3.0020e-15  -5.4937e-15   5.5148e-01   1.0730e-01]\n",
      " [  5.5345e-17  -5.5345e-17  -2.1587e-16  -1.2675e-14   5.4288e-02\n",
      "   -6.0534e-01   1.8441e-01  -8.5996e-01  -8.2067e-16   7.5287e-16]\n",
      " [  1.1079e-16  -1.1079e-16   2.4283e-16  -9.1680e-15  -6.0534e-01\n",
      "   -5.4288e-02  -8.5996e-01  -1.8441e-01  -1.6174e-15  -3.8065e-16]\n",
      " [ -4.2981e-03  -3.2550e-03  -4.5046e-01   1.1577e+00  -1.2682e-14\n",
      "   -2.0542e-14  -1.3841e-15  -2.2605e-15  -4.9103e-01   9.0874e-01]\n",
      " [ -7.0796e-01   7.0843e-01   1.4344e-01   1.6657e-01  -1.8245e-15\n",
      "   -3.1003e-15  -1.8157e-16  -4.2078e-16  -1.0423e-01  -8.3778e-02]\n",
      " [  4.6099e-03  -5.7457e-03  -2.9542e-01  -1.8518e+00   1.9882e-14\n",
      "    3.3730e-14   1.7208e-15   4.5653e-15   5.5148e-01  -1.0730e-01]\n",
      " [  4.7015e-19  -4.7044e-19  -1.7455e-17  -8.4236e-15   5.4288e-02\n",
      "   -6.0534e-01  -1.8441e-01   8.5996e-01   2.8002e-16  -2.4529e-16]\n",
      " [  6.6894e-19  -6.6925e-19   1.9717e-17  -6.0978e-15  -6.0534e-01\n",
      "   -5.4288e-02   8.5996e-01   1.8441e-01   5.7098e-16   1.3455e-16]\n",
      " [  4.2981e-03  -3.2550e-03   4.5046e-01   1.1577e+00  -1.3193e-14\n",
      "   -2.1221e-14  -2.3169e-15  -3.2516e-15   4.9103e-01   9.0874e-01]]\n",
      "Shell array: [0, 0, 0, 0, 0, 0, 0]\n",
      "****\n",
      "ROTION Delta Matrix\n",
      "[[ 0.  0.  0.  0.  0.  0.  0.]\n",
      " [ 0.  0.  0.  0.  0.  0.  0.]\n",
      " [ 0.  0.  0.  0.  0.  0.  0.]\n",
      " [ 0.  0.  0.  0.  0.  0.  0.]\n",
      " [ 0.  0.  0.  0.  0.  0.  0.]\n",
      " [ 0.  0.  0.  0.  0.  0.  0.]\n",
      " [ 0.  0.  0.  0.  0.  0.  0.]]\n",
      "---- 1 :   -103.3672    26.5945   -99.6478    69.3338\n",
      "ROTION Delta Matrix\n",
      "[[ 0.  0.  0.  0.  0.  0.  0.]\n",
      " [ 0.  0.  0.  0.  0.  0.  0.]\n",
      " [ 0.  0.  0.  0.  0.  0.  0.]\n",
      " [ 0.  0.  0.  0.  0.  0.  0.]\n",
      " [ 0.  0.  0.  0.  0.  0.  0.]\n",
      " [ 0.  0.  0.  0.  0.  0.  0.]\n",
      " [ 0.  0.  0.  0.  0.  0.  0.]]\n",
      "---- 2 :   -107.3489    26.5945   -98.7230    63.5026\n",
      "ROTION Delta Matrix\n",
      "[[ 0.  0.  0.  0.  0.  0.  0.]\n",
      " [ 0.  0.  0.  0.  0.  0.  0.]\n",
      " [ 0.  0.  0.  0.  0.  0.  0.]\n",
      " [ 0.  0.  0.  0.  0.  0.  0.]\n",
      " [ 0.  0.  0.  0.  0.  0.  0.]\n",
      " [ 0.  0.  0.  0.  0.  0.  0.]\n",
      " [ 0.  0.  0.  0.  0.  0.  0.]]\n",
      "---- 3 :   -107.3784    26.5945   -98.6689    63.3647\n",
      "ROTION Delta Matrix\n",
      "[[ 0.  0.  0.  0.  0.  0.  0.]\n",
      " [ 0.  0.  0.  0.  0.  0.  0.]\n",
      " [ 0.  0.  0.  0.  0.  0.  0.]\n",
      " [ 0.  0.  0.  0.  0.  0.  0.]\n",
      " [ 0.  0.  0.  0.  0.  0.  0.]\n",
      " [ 0.  0.  0.  0.  0.  0.  0.]\n",
      " [ 0.  0.  0.  0.  0.  0.  0.]]\n",
      "---- 4 :   -107.3796    26.5945   -98.6586    63.3432\n",
      "ROTION Delta Matrix\n",
      "[[ 0.  0.  0.  0.  0.  0.  0.]\n",
      " [ 0.  0.  0.  0.  0.  0.  0.]\n",
      " [ 0.  0.  0.  0.  0.  0.  0.]\n",
      " [ 0.  0.  0.  0.  0.  0.  0.]\n",
      " [ 0.  0.  0.  0.  0.  0.  0.]\n",
      " [ 0.  0.  0.  0.  0.  0.  0.]\n",
      " [ 0.  0.  0.  0.  0.  0.  0.]]\n",
      "---- 5 :   -107.3796    26.5945   -98.6566    63.3390\n",
      "Energy converged\n",
      "----GVB calculation on N2 at R=1.000\n"
     ]
    },
    {
     "name": "stdout",
     "output_type": "stream",
     "text": [
      "**** PyQuante GVB ****\n",
      "Stoichiometry = N2, Charge = 0, Multiplicity = 1\n",
      "7 N     0.000000     0.000000    -0.944863\n",
      "7 N     0.000000     0.000000     0.944863\n",
      "Nuclear repulsion energy: 25.930\n",
      "Basis set: sto3g\n",
      "  ncore/open/pair: 7,0,0\n",
      "  occ/bf/orb: 7,10,10\n",
      "Shell 0\n",
      "  occupation = 1.00\n",
      "  orbitals in shell [0, 1, 2, 3, 4, 5, 6]\n",
      "  couplings to other shells [(2.0, -1.0)]\n",
      "Starting guess at orbitals:\n",
      "[[ -7.0800e-01  -7.0844e-01   1.3979e-01   1.6904e-01   1.9015e-17\n",
      "    1.1326e-15  -1.7358e-16  -3.2738e-16   1.0562e-01   8.4084e-02]\n",
      " [  4.5938e-03   6.2544e-03  -3.0109e-01  -1.7421e+00   3.3799e-16\n",
      "   -1.0662e-14   1.9260e-15   2.2259e-15  -5.5107e-01   3.9815e-02]\n",
      " [  5.5314e-17  -8.3070e-17   3.5906e-16   7.6425e-16  -6.0639e-01\n",
      "   -7.7910e-02  -7.4895e-01   4.4045e-01  -2.0889e-15   2.0307e-15]\n",
      " [ -1.1062e-16   1.1062e-16  -8.0195e-16  -4.9790e-15  -7.7910e-02\n",
      "    6.0639e-01  -4.4045e-01  -7.4895e-01  -4.4863e-16  -7.8179e-16]\n",
      " [ -4.1067e-03  -2.6616e-03  -4.4526e-01  -1.1156e+00   1.5088e-16\n",
      "   -6.3482e-15   8.1958e-16   8.7970e-16   4.9005e-01   8.7179e-01]\n",
      " [ -7.0800e-01   7.0844e-01   1.3979e-01  -1.6904e-01  -3.0582e-16\n",
      "   -1.1221e-15  -6.6151e-17   4.8962e-16   1.0562e-01  -8.4084e-02]\n",
      " [  4.5938e-03  -6.2544e-03  -3.0109e-01   1.7421e+00   9.2334e-16\n",
      "    1.0338e-14  -1.9200e-16  -2.6326e-15  -5.5107e-01  -3.9815e-02]\n",
      " [  5.8238e-19  -5.8255e-19   5.2079e-18   3.6701e-16  -6.0639e-01\n",
      "   -7.7910e-02   7.4895e-01  -4.4045e-01   6.7912e-16  -5.8893e-16]\n",
      " [ -1.1816e-18   1.1820e-18  -6.7843e-17  -2.3517e-15  -7.7910e-02\n",
      "    6.0639e-01   4.4045e-01   7.4895e-01   1.3675e-16   2.1920e-16]\n",
      " [  4.1067e-03  -2.6616e-03   4.4526e-01  -1.1156e+00   1.4372e-15\n",
      "   -6.1000e-15   2.3664e-15   1.3825e-16  -4.9005e-01   8.7179e-01]]\n",
      "Shell array: [0, 0, 0, 0, 0, 0, 0]\n",
      "****\n",
      "ROTION Delta Matrix\n",
      "[[ 0.  0.  0.  0.  0.  0.  0.]\n",
      " [ 0.  0.  0.  0.  0.  0.  0.]\n",
      " [ 0.  0.  0.  0.  0.  0.  0.]\n",
      " [ 0.  0.  0.  0.  0.  0.  0.]\n",
      " [ 0.  0.  0.  0.  0.  0.  0.]\n",
      " [ 0.  0.  0.  0.  0.  0.  0.]\n",
      " [ 0.  0.  0.  0.  0.  0.  0.]]\n",
      "---- 1 :   -103.5355    25.9297   -99.1722    68.8793\n",
      "ROTION Delta Matrix\n",
      "[[ 0.  0.  0.  0.  0.  0.  0.]\n",
      " [ 0.  0.  0.  0.  0.  0.  0.]\n",
      " [ 0.  0.  0.  0.  0.  0.  0.]\n",
      " [ 0.  0.  0.  0.  0.  0.  0.]\n",
      " [ 0.  0.  0.  0.  0.  0.  0.]\n",
      " [ 0.  0.  0.  0.  0.  0.  0.]\n",
      " [ 0.  0.  0.  0.  0.  0.  0.]]\n",
      "---- 2 :   -107.3896    25.9297   -98.2002    63.0811\n",
      "ROTION Delta Matrix\n",
      "[[ 0.  0.  0.  0.  0.  0.  0.]\n",
      " [ 0.  0.  0.  0.  0.  0.  0.]\n",
      " [ 0.  0.  0.  0.  0.  0.  0.]\n",
      " [ 0.  0.  0.  0.  0.  0.  0.]\n",
      " [ 0.  0.  0.  0.  0.  0.  0.]\n",
      " [ 0.  0.  0.  0.  0.  0.  0.]\n",
      " [ 0.  0.  0.  0.  0.  0.  0.]]\n",
      "---- 3 :   -107.4183    25.9297   -98.1421    62.9363\n",
      "ROTION Delta Matrix\n",
      "[[ 0.  0.  0.  0.  0.  0.  0.]\n",
      " [ 0.  0.  0.  0.  0.  0.  0.]\n",
      " [ 0.  0.  0.  0.  0.  0.  0.]\n",
      " [ 0.  0.  0.  0.  0.  0.  0.]\n",
      " [ 0.  0.  0.  0.  0.  0.  0.]\n",
      " [ 0.  0.  0.  0.  0.  0.  0.]\n",
      " [ 0.  0.  0.  0.  0.  0.  0.]]\n",
      "---- 4 :   -107.4195    25.9297   -98.1310    62.9127\n",
      "ROTION Delta Matrix\n",
      "[[ 0.  0.  0.  0.  0.  0.  0.]\n",
      " [ 0.  0.  0.  0.  0.  0.  0.]\n",
      " [ 0.  0.  0.  0.  0.  0.  0.]\n",
      " [ 0.  0.  0.  0.  0.  0.  0.]\n",
      " [ 0.  0.  0.  0.  0.  0.  0.]\n",
      " [ 0.  0.  0.  0.  0.  0.  0.]\n",
      " [ 0.  0.  0.  0.  0.  0.  0.]]\n",
      "---- 5 :   -107.4195    25.9297   -98.1287    62.9081\n",
      "Energy converged\n",
      "----GVB calculation on N2 at R=1.025\n",
      "**** PyQuante GVB ****\n",
      "Stoichiometry = N2, Charge = 0, Multiplicity = 1\n",
      "7 N     0.000000     0.000000    -0.968485\n",
      "7 N     0.000000     0.000000     0.968485\n",
      "Nuclear repulsion energy: 25.297\n",
      "Basis set: sto3g\n",
      "  ncore/open/pair: 7,0,0\n",
      "  occ/bf/orb: 7,10,10\n",
      "Shell 0\n",
      "  occupation = 1.00\n",
      "  orbitals in shell [0, 1, 2, 3, 4, 5, 6]\n",
      "  couplings to other shells [(2.0, -1.0)]\n",
      "Starting guess at orbitals:\n",
      "[[ -7.0803e-01  -7.0846e-01  -1.3649e-01  -1.7082e-01   4.4845e-16\n",
      "   -5.0564e-16  -1.5956e-16  -1.1915e-16  -1.0686e-01   8.4432e-02]\n",
      " [  4.5803e-03   6.6068e-03   3.0683e-01   1.6432e+00  -2.1644e-15\n",
      "    5.4668e-15  -2.6107e-16   2.1615e-15   5.5055e-01  -1.6313e-02]\n",
      " [  5.5483e-17  -2.7727e-17   6.1174e-16  -4.2570e-15  -3.5057e-01\n",
      "    5.0521e-01   7.9129e-01   3.3408e-01   5.2696e-15   5.7975e-15]\n",
      " [  1.1069e-16  -1.1069e-16  -1.3863e-15   2.0331e-16  -5.0521e-01\n",
      "   -3.5057e-01   3.3408e-01  -7.9129e-01   4.7223e-15   4.5414e-15]\n",
      " [ -3.9327e-03  -2.1854e-03   4.4047e-01   1.0754e+00  -1.2374e-15\n",
      "    2.8728e-15  -3.2905e-16   1.0834e-15  -4.8932e-01   8.4048e-01]\n",
      " [ -7.0803e-01   7.0846e-01  -1.3649e-01   1.7082e-01  -1.1405e-15\n",
      "    8.1610e-16   1.3531e-15   5.5628e-17  -1.0686e-01  -8.4432e-02]\n",
      " [  4.5803e-03  -6.6068e-03   3.0683e-01  -1.6432e+00   6.0930e-15\n",
      "   -6.0818e-15  -5.9749e-15  -1.1505e-15   5.5055e-01   1.6313e-02]\n",
      " [  8.7380e-20  -8.7492e-20  -3.4775e-18  -9.1525e-16  -3.5057e-01\n",
      "    5.0521e-01  -7.9129e-01  -3.3408e-01  -2.5715e-15  -2.3149e-15]\n",
      " [  1.0252e-18  -1.0254e-18  -6.9275e-17  -2.8638e-16  -5.0521e-01\n",
      "   -3.5057e-01  -3.3408e-01   7.9129e-01  -9.1642e-16  -8.2853e-16]\n",
      " [  3.9327e-03  -2.1854e-03  -4.4047e-01   1.0754e+00   3.1163e-15\n",
      "    3.7861e-15  -5.7217e-15   3.0303e-15   4.8932e-01   8.4048e-01]]\n",
      "Shell array: [0, 0, 0, 0, 0, 0, 0]\n",
      "****\n",
      "ROTION Delta Matrix\n",
      "[[ 0.  0.  0.  0.  0.  0.  0.]\n",
      " [ 0.  0.  0.  0.  0.  0.  0.]\n",
      " [ 0.  0.  0.  0.  0.  0.  0.]\n",
      " [ 0.  0.  0.  0.  0.  0.  0.]\n",
      " [ 0.  0.  0.  0.  0.  0.  0.]\n",
      " [ 0.  0.  0.  0.  0.  0.  0.]\n",
      " [ 0.  0.  0.  0.  0.  0.  0.]]\n",
      "---- 1 :   -103.6938    25.2973   -98.7053    68.4195\n",
      "ROTION Delta Matrix\n",
      "[[ 0.  0.  0.  0.  0.  0.  0.]\n",
      " [ 0.  0.  0.  0.  0.  0.  0.]\n",
      " [ 0.  0.  0.  0.  0.  0.  0.]\n",
      " [ 0.  0.  0.  0.  0.  0.  0.]\n",
      " [ 0.  0.  0.  0.  0.  0.  0.]\n",
      " [ 0.  0.  0.  0.  0.  0.  0.]\n",
      " [ 0.  0.  0.  0.  0.  0.  0.]]\n",
      "---- 2 :   -107.4205    25.2973   -97.6954    62.6731\n",
      "ROTION Delta Matrix\n",
      "[[ 0.  0.  0.  0.  0.  0.  0.]\n",
      " [ 0.  0.  0.  0.  0.  0.  0.]\n",
      " [ 0.  0.  0.  0.  0.  0.  0.]\n",
      " [ 0.  0.  0.  0.  0.  0.  0.]\n",
      " [ 0.  0.  0.  0.  0.  0.  0.]\n",
      " [ 0.  0.  0.  0.  0.  0.  0.]\n",
      " [ 0.  0.  0.  0.  0.  0.  0.]]\n",
      "---- 3 :   -107.4487    25.2973   -97.6337    62.5214\n",
      "ROTION Delta Matrix\n",
      "[[ 0.  0.  0.  0.  0.  0.  0.]\n",
      " [ 0.  0.  0.  0.  0.  0.  0.]\n",
      " [ 0.  0.  0.  0.  0.  0.  0.]\n",
      " [ 0.  0.  0.  0.  0.  0.  0.]\n",
      " [ 0.  0.  0.  0.  0.  0.  0.]\n",
      " [ 0.  0.  0.  0.  0.  0.  0.]\n",
      " [ 0.  0.  0.  0.  0.  0.  0.]]\n",
      "---- 4 :   -107.4499    25.2973   -97.6215    62.4958\n",
      "ROTION Delta Matrix\n",
      "[[ 0.  0.  0.  0.  0.  0.  0.]\n",
      " [ 0.  0.  0.  0.  0.  0.  0.]\n",
      " [ 0.  0.  0.  0.  0.  0.  0.]\n",
      " [ 0.  0.  0.  0.  0.  0.  0.]\n",
      " [ 0.  0.  0.  0.  0.  0.  0.]\n",
      " [ 0.  0.  0.  0.  0.  0.  0.]\n",
      " [ 0.  0.  0.  0.  0.  0.  0.]]\n",
      "---- 5 :   -107.4500    25.2973   -97.6190    62.4907\n",
      "Energy converged\n",
      "----GVB calculation on N2 at R=1.050\n",
      "**** PyQuante GVB ****\n",
      "Stoichiometry = N2, Charge = 0, Multiplicity = 1\n",
      "7 N     0.000000     0.000000    -0.992106\n",
      "7 N     0.000000     0.000000     0.992106\n",
      "Nuclear repulsion energy: 24.695\n",
      "Basis set: sto3g\n",
      "  ncore/open/pair: 7,0,0\n",
      "  occ/bf/orb: 7,10,10\n",
      "Shell 0\n",
      "  occupation = 1.00\n",
      "  orbitals in shell [0, 1, 2, 3, 4, 5, 6]\n",
      "  couplings to other shells [(2.0, -1.0)]\n",
      "Starting guess at orbitals:\n",
      "[[ -7.0805e-01  -7.0847e-01  -1.3351e-01  -1.7201e-01   2.9140e-16\n",
      "    4.2693e-16   2.5489e-16  -6.8555e-17  -1.0797e-01   8.4834e-02]\n",
      " [  4.5688e-03   6.8417e-03   3.1265e-01   1.5539e+00  -2.0457e-15\n",
      "   -3.0922e-15  -1.4228e-15   2.8368e-16   5.4991e-01  -6.3705e-02]\n",
      " [  5.5368e-17  -5.5368e-17   3.2293e-16   2.3474e-15   2.2425e-01\n",
      "    5.7633e-01   8.4624e-01  -7.5974e-02  -1.4730e-16  -1.2673e-15]\n",
      " [  1.1083e-16  -1.1083e-16  -2.6768e-17  -5.3716e-16  -5.7633e-01\n",
      "    2.2425e-01   7.5974e-02   8.4624e-01   5.8670e-16   8.1063e-16]\n",
      " [ -3.7735e-03  -1.8033e-03   4.3607e-01   1.0376e+00  -1.0760e-15\n",
      "   -1.5162e-15  -2.1227e-16   2.1156e-17  -4.8880e-01   8.1355e-01]\n",
      " [ -7.0805e-01   7.0847e-01  -1.3351e-01   1.7201e-01  -1.1065e-16\n",
      "   -2.9567e-16  -1.7282e-16   1.2987e-16  -1.0797e-01  -8.4834e-02]\n",
      " [  4.5688e-03  -6.8417e-03   3.1265e-01  -1.5539e+00   2.1306e-15\n",
      "    2.9940e-15   1.3455e-15  -5.9383e-16   5.4991e-01   6.3705e-02]\n",
      " [  4.6446e-19  -4.6442e-19   3.2972e-17   6.7046e-16   2.2425e-01\n",
      "    5.7633e-01  -8.4624e-01   7.5974e-02   2.7737e-17   3.3035e-16]\n",
      " [  6.3344e-19  -6.3353e-19  -3.2116e-18  -1.4870e-16  -5.7633e-01\n",
      "    2.2425e-01  -7.5974e-02  -8.4624e-01  -1.7050e-16  -1.9921e-16]\n",
      " [  3.7735e-03  -1.8033e-03  -4.3607e-01   1.0376e+00  -6.2270e-16\n",
      "   -1.2121e-15   5.8003e-17  -3.9228e-16   4.8880e-01   8.1355e-01]]\n",
      "Shell array: [0, 0, 0, 0, 0, 0, 0]\n"
     ]
    },
    {
     "name": "stdout",
     "output_type": "stream",
     "text": [
      "****\n",
      "ROTION Delta Matrix\n",
      "[[ 0.  0.  0.  0.  0.  0.  0.]\n",
      " [ 0.  0.  0.  0.  0.  0.  0.]\n",
      " [ 0.  0.  0.  0.  0.  0.  0.]\n",
      " [ 0.  0.  0.  0.  0.  0.  0.]\n",
      " [ 0.  0.  0.  0.  0.  0.  0.]\n",
      " [ 0.  0.  0.  0.  0.  0.  0.]\n",
      " [ 0.  0.  0.  0.  0.  0.  0.]]\n",
      "---- 1 :   -103.8415    24.6949   -98.2473    67.9581\n",
      "ROTION Delta Matrix\n",
      "[[ 0.  0.  0.  0.  0.  0.  0.]\n",
      " [ 0.  0.  0.  0.  0.  0.  0.]\n",
      " [ 0.  0.  0.  0.  0.  0.  0.]\n",
      " [ 0.  0.  0.  0.  0.  0.  0.]\n",
      " [ 0.  0.  0.  0.  0.  0.  0.]\n",
      " [ 0.  0.  0.  0.  0.  0.  0.]\n",
      " [ 0.  0.  0.  0.  0.  0.  0.]]\n",
      "---- 2 :   -106.6556    24.6949   -97.2626    63.1747\n",
      "ROTION Delta Matrix\n",
      "[[ 0.  0.  0.  0.  0.  0.  0.]\n",
      " [ 0.  0.  0.  0.  0.  0.  0.]\n",
      " [ 0.  0.  0.  0.  0.  0.  0.]\n",
      " [ 0.  0.  0.  0.  0.  0.  0.]\n",
      " [ 0.  0.  0.  0.  0.  0.  0.]\n",
      " [ 0.  0.  0.  0.  0.  0.  0.]\n",
      " [ 0.  0.  0.  0.  0.  0.  0.]]\n",
      "---- 3 :   -106.6789    24.6949   -97.1272    62.8806\n",
      "ROTION Delta Matrix\n",
      "[[ 0.  0.  0.  0.  0.  0.  0.]\n",
      " [ 0.  0.  0.  0.  0.  0.  0.]\n",
      " [ 0.  0.  0.  0.  0.  0.  0.]\n",
      " [ 0.  0.  0.  0.  0.  0.  0.]\n",
      " [ 0.  0.  0.  0.  0.  0.  0.]\n",
      " [ 0.  0.  0.  0.  0.  0.  0.]\n",
      " [ 0.  0.  0.  0.  0.  0.  0.]]\n",
      "---- 4 :   -106.6797    24.6949   -97.0996    62.8246\n",
      "Energy converged\n",
      "----GVB calculation on N2 at R=1.100\n",
      "**** PyQuante GVB ****\n",
      "Stoichiometry = N2, Charge = 0, Multiplicity = 1\n",
      "7 N     0.000000     0.000000    -1.039349\n",
      "7 N     0.000000     0.000000     1.039349\n",
      "Nuclear repulsion energy: 23.572\n",
      "Basis set: sto3g\n",
      "  ncore/open/pair: 7,0,0\n",
      "  occ/bf/orb: 7,10,10\n",
      "Shell 0\n",
      "  occupation = 1.00\n",
      "  orbitals in shell [0, 1, 2, 3, 4, 5, 6]\n",
      "  couplings to other shells [(2.0, -1.0)]\n",
      "Starting guess at orbitals:\n",
      "[[ -7.0809e-01  -7.0849e-01  -1.2846e-01  -1.7297e-01   4.3140e-16\n",
      "    9.8237e-18  -2.7890e-18  -2.2921e-16   1.0981e-01  -8.5786e-02]\n",
      " [  4.5509e-03   7.0695e-03   3.2449e-01   1.4007e+00  -2.8735e-15\n",
      "   -1.0612e-15   9.4433e-16   1.3446e-15  -5.4831e-01   1.3904e-01]\n",
      " [ -3.4698e-17   4.8575e-17   9.3089e-16   1.3418e-15   5.8743e-01\n",
      "   -2.1403e-01   3.4216e-01  -7.5930e-01   9.7060e-19   1.0015e-15]\n",
      " [ -5.3214e-20  -1.1097e-16  -4.3725e-16   6.9155e-16   2.1403e-01\n",
      "    5.8743e-01  -7.5930e-01  -3.4216e-01  -3.7971e-15  -3.3046e-15]\n",
      " [ -3.4921e-03  -1.2513e-03   4.2827e-01   9.6902e-01  -1.3584e-15\n",
      "   -6.4093e-16   5.2954e-16   2.5803e-16   4.8838e-01  -7.6963e-01]\n",
      " [ -7.0809e-01   7.0849e-01  -1.2846e-01   1.7297e-01  -7.2182e-17\n",
      "    2.4516e-16  -2.9967e-16  -1.4369e-18   1.0981e-01   8.5786e-02]\n",
      " [  4.5509e-03  -7.0695e-03   3.2449e-01  -1.4007e+00   1.0434e-15\n",
      "   -8.5138e-16   1.4879e-15  -2.9368e-16  -5.4831e-01  -1.3904e-01]\n",
      " [  1.1615e-20  -1.1528e-20   4.5843e-17   3.6346e-16   5.8743e-01\n",
      "   -2.1403e-01  -3.4216e-01   7.5930e-01  -5.0064e-16  -6.0467e-16]\n",
      " [  1.9064e-19  -1.9065e-19  -2.4483e-17   2.0725e-16   2.1403e-01\n",
      "    5.8743e-01   7.5930e-01   3.4216e-01   6.2705e-16   5.0335e-16]\n",
      " [  3.4921e-03  -1.2513e-03  -4.2827e-01   9.6902e-01  -2.1401e-15\n",
      "   -3.3234e-15   3.4648e-15   7.7126e-16  -4.8838e-01  -7.6963e-01]]\n",
      "Shell array: [0, 0, 0, 0, 0, 0, 0]\n",
      "****\n",
      "ROTION Delta Matrix\n",
      "[[ 0.  0.  0.  0.  0.  0.  0.]\n",
      " [ 0.  0.  0.  0.  0.  0.  0.]\n",
      " [ 0.  0.  0.  0.  0.  0.  0.]\n",
      " [ 0.  0.  0.  0.  0.  0.  0.]\n",
      " [ 0.  0.  0.  0.  0.  0.  0.]\n",
      " [ 0.  0.  0.  0.  0.  0.  0.]\n",
      " [ 0.  0.  0.  0.  0.  0.  0.]]\n",
      "---- 1 :   -104.1058    23.5724   -97.3587    67.0392\n",
      "ROTION Delta Matrix\n",
      "[[ 0.  0.  0.  0.  0.  0.  0.]\n",
      " [ 0.  0.  0.  0.  0.  0.  0.]\n",
      " [ 0.  0.  0.  0.  0.  0.  0.]\n",
      " [ 0.  0.  0.  0.  0.  0.  0.]\n",
      " [ 0.  0.  0.  0.  0.  0.  0.]\n",
      " [ 0.  0.  0.  0.  0.  0.  0.]\n",
      " [ 0.  0.  0.  0.  0.  0.  0.]]\n",
      "---- 2 :   -106.7461    23.5724   -96.3295    62.3404\n",
      "ROTION Delta Matrix\n",
      "[[ 0.  0.  0.  0.  0.  0.  0.]\n",
      " [ 0.  0.  0.  0.  0.  0.  0.]\n",
      " [ 0.  0.  0.  0.  0.  0.  0.]\n",
      " [ 0.  0.  0.  0.  0.  0.  0.]\n",
      " [ 0.  0.  0.  0.  0.  0.  0.]\n",
      " [ 0.  0.  0.  0.  0.  0.  0.]\n",
      " [ 0.  0.  0.  0.  0.  0.  0.]]\n",
      "---- 3 :   -106.7689    23.5724   -96.1911    62.0409\n",
      "ROTION Delta Matrix\n",
      "[[ 0.  0.  0.  0.  0.  0.  0.]\n",
      " [ 0.  0.  0.  0.  0.  0.  0.]\n",
      " [ 0.  0.  0.  0.  0.  0.  0.]\n",
      " [ 0.  0.  0.  0.  0.  0.  0.]\n",
      " [ 0.  0.  0.  0.  0.  0.  0.]\n",
      " [ 0.  0.  0.  0.  0.  0.  0.]\n",
      " [ 0.  0.  0.  0.  0.  0.  0.]]\n",
      "---- 4 :   -106.7696    23.5724   -96.1638    61.9856\n",
      "Energy converged\n"
     ]
    },
    {
     "data": {
      "text/plain": [
       "[<matplotlib.lines.Line2D at 0x1191f5250>]"
      ]
     },
     "execution_count": 26,
     "metadata": {},
     "output_type": "execute_result"
    },
    {
     "data": {
      "image/png": "[encoded data removed]",
      "text/plain": [
       "<matplotlib.figure.Figure at 0x118e91c50>"
      ]
     },
     "metadata": {},
     "output_type": "display_data"
    }
   ],
   "source": [
    "Egvbs = []\n",
    "for R in Rs:\n",
    "    n2 = n2_mol(R)\n",
    "    print \"----GVB calculation on N2 at R=%.3f\" % R\n",
    "    E = gvb(n2,verbose=True)\n",
    "    Egvbs.append(E)\n",
    "plt.plot(Rs,Egvbs)"
   ]
  },
  {
   "cell_type": "code",
   "execution_count": 38,
   "metadata": {},
   "outputs": [],
   "source": [
    "# R     Etot        Enuke     Eone        Etwo\n",
    "data = \"\"\"\\\n",
    "0.900  -107.1872    28.8108  -100.3571    64.7162\n",
    "0.950  -107.3287    27.2944   -99.2035    63.7838\n",
    "0.975  -107.3796    26.5945   -98.6566    63.3390\n",
    "1.000  -107.4195    25.9297   -98.1287    62.9081\n",
    "1.025  -107.4500    25.2973   -97.6190    62.4907\n",
    "1.050  -106.6797    24.6949   -97.0996    62.8246\n",
    "1.100  -106.7696    23.5724   -96.1638    61.9856\"\"\"\n",
    "Edata = []\n",
    "for line in data.splitlines():\n",
    "    Edata.append(map(float,line.split()))\n",
    "Edata = np.array(Edata)"
   ]
  },
  {
   "cell_type": "code",
   "execution_count": 39,
   "metadata": {},
   "outputs": [
    {
     "data": {
      "text/plain": [
       "array([[   0.9   , -107.1872,   28.8108, -100.3571,   64.7162],\n",
       "       [   0.95  , -107.3287,   27.2944,  -99.2035,   63.7838],\n",
       "       [   0.975 , -107.3796,   26.5945,  -98.6566,   63.339 ],\n",
       "       [   1.    , -107.4195,   25.9297,  -98.1287,   62.9081],\n",
       "       [   1.025 , -107.45  ,   25.2973,  -97.619 ,   62.4907],\n",
       "       [   1.05  , -106.6797,   24.6949,  -97.0996,   62.8246],\n",
       "       [   1.1   , -106.7696,   23.5724,  -96.1638,   61.9856]])"
      ]
     },
     "execution_count": 39,
     "metadata": {},
     "output_type": "execute_result"
    }
   ],
   "source": [
    "Edata"
   ]
  },
  {
   "cell_type": "code",
   "execution_count": 46,
   "metadata": {},
   "outputs": [
    {
     "data": {
      "text/plain": [
       "<matplotlib.text.Text at 0x119a4f350>"
      ]
     },
     "execution_count": 46,
     "metadata": {},
     "output_type": "execute_result"
    },
    {
     "data": {
      "image/png": "[encoded data removed]",
      "text/plain": [
       "<matplotlib.figure.Figure at 0x11949dd50>"
      ]
     },
     "metadata": {},
     "output_type": "display_data"
    }
   ],
   "source": [
    "plt.plot(Edata[:,0],Edata[:,1])\n",
    "plt.title(\"Total Energy\")\n",
    "plt.ylabel(\"E/h\")\n",
    "plt.xlabel(\"R\")"
   ]
  },
  {
   "cell_type": "code",
   "execution_count": 47,
   "metadata": {},
   "outputs": [
    {
     "data": {
      "text/plain": [
       "<matplotlib.text.Text at 0x119879490>"
      ]
     },
     "execution_count": 47,
     "metadata": {},
     "output_type": "execute_result"
    },
    {
     "data": {
      "image/png": "[encoded data removed]",
      "text/plain": [
       "<matplotlib.figure.Figure at 0x119acd090>"
      ]
     },
     "metadata": {},
     "output_type": "display_data"
    }
   ],
   "source": [
    "plt.plot(Edata[:,0],Edata[:,2])\n",
    "plt.title(\"Nuclear Repulsion Energy\")\n",
    "plt.ylabel(\"E/h\")\n",
    "plt.xlabel(\"R\")"
   ]
  },
  {
   "cell_type": "code",
   "execution_count": 48,
   "metadata": {},
   "outputs": [
    {
     "data": {
      "text/plain": [
       "<matplotlib.text.Text at 0x119b98c50>"
      ]
     },
     "execution_count": 48,
     "metadata": {},
     "output_type": "execute_result"
    },
    {
     "data": {
      "image/png": "[encoded data removed]",
      "text/plain": [
       "<matplotlib.figure.Figure at 0x119c314d0>"
      ]
     },
     "metadata": {},
     "output_type": "display_data"
    }
   ],
   "source": [
    "plt.plot(Edata[:,0],Edata[:,3])\n",
    "plt.title(\"One Electron Energy\")\n",
    "plt.ylabel(\"E/h\")\n",
    "plt.xlabel(\"R\")"
   ]
  },
  {
   "cell_type": "code",
   "execution_count": 49,
   "metadata": {},
   "outputs": [
    {
     "data": {
      "text/plain": [
       "<matplotlib.text.Text at 0x119c31c90>"
      ]
     },
     "execution_count": 49,
     "metadata": {},
     "output_type": "execute_result"
    },
    {
     "data": {
      "image/png": "[encoded data removed]",
      "text/plain": [
       "<matplotlib.figure.Figure at 0x119b6e150>"
      ]
     },
     "metadata": {},
     "output_type": "display_data"
    }
   ],
   "source": [
    "plt.plot(Edata[:,0],Edata[:,4])\n",
    "plt.title(\"Two Electron Energy\")\n",
    "plt.ylabel(\"E/h\")\n",
    "plt.xlabel(\"R\")"
   ]
  }
 ],
 "metadata": {
  "kernelspec": {
   "display_name": "Python 2",
   "language": "python",
   "name": "python2"
  },
  "language_info": {
   "codemirror_mode": {
    "name": "ipython",
    "version": 2
   },
   "file_extension": ".py",
   "mimetype": "text/x-python",
   "name": "python",
   "nbconvert_exporter": "python",
   "pygments_lexer": "ipython2",
   "version": "2.7.13"
  }
 },
 "nbformat": 4,
 "nbformat_minor": 2
}
