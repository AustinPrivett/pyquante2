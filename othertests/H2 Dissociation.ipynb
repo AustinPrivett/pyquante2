{
 "cells": [
  {
   "cell_type": "markdown",
   "metadata": {},
   "source": [
    "# Demonstrating Proper H2 Dissociation using GVB\n",
    "\n",
    "One of the big flaws of Hartree Fock theory is its inability to describe low-overlap/dissociated chemical bonds. Use the GVB capability in PyQuante to illustrate this as simply as possible."
   ]
  },
  {
   "cell_type": "code",
   "execution_count": 27,
   "metadata": {},
   "outputs": [],
   "source": [
    "%matplotlib inline\n",
    "from pyquante2.scf.mcscf import gvb\n",
    "from pyquante2.geo.samples import h\n",
    "from pyquante2.geo.molecule import molecule\n",
    "import matplotlib.pyplot as plt"
   ]
  },
  {
   "cell_type": "markdown",
   "metadata": {
    "collapsed": true
   },
   "source": [
    "First, get the HF energy for H atom:"
   ]
  },
  {
   "cell_type": "code",
   "execution_count": 5,
   "metadata": {},
   "outputs": [
    {
     "name": "stdout",
     "output_type": "stream",
     "text": [
      "-0.466581845469\n"
     ]
    }
   ],
   "source": [
    "Eh = gvb(h)\n",
    "print Eh"
   ]
  },
  {
   "cell_type": "markdown",
   "metadata": {},
   "source": [
    "Now do the HF dissociation for H2 under HF:"
   ]
  },
  {
   "cell_type": "code",
   "execution_count": 22,
   "metadata": {},
   "outputs": [],
   "source": [
    "Rs = [0.3,0.5,0.6,0.7,0.8,0.9,1.1,1.3,1.5,1.7,1.9,2.5]\n",
    "\n",
    "Ehf = []\n",
    "for R in Rs:\n",
    "    h2 = molecule([(1,0,0,-R/2.),(1,0,0,R/2)],units='Angstrom')\n",
    "    Ehf.append(gvb(h2))\n",
    "    \n",
    "Egvb = []\n",
    "for R in Rs:\n",
    "    h2 = molecule([(1,0,0,-R/2.),(1,0,0,R/2)],units='Angstrom')\n",
    "    Egvb.append(gvb(h2,npair=1))\n",
    "\n"
   ]
  },
  {
   "cell_type": "code",
   "execution_count": 26,
   "metadata": {},
   "outputs": [
    {
     "data": {
      "text/plain": [
       "<matplotlib.legend.Legend at 0x113967dd0>"
      ]
     },
     "execution_count": 26,
     "metadata": {},
     "output_type": "execute_result"
    },
    {
     "data": {
      "image/png": "[encoded data removed]",
      "text/plain": [
       "<matplotlib.figure.Figure at 0x113880450>"
      ]
     },
     "metadata": {},
     "output_type": "display_data"
    }
   ],
   "source": [
    "plt.plot(Rs,Ehf,label='HF')\n",
    "plt.plot(Rs,Egvb,label='GVB')\n",
    "plt.axhline(y=2*Eh,color='k')\n",
    "plt.legend(bbox_to_anchor=(1.05, 1), loc=2, borderaxespad=0.) "
   ]
  },
  {
   "cell_type": "markdown",
   "metadata": {},
   "source": []
  }
 ],
 "metadata": {
  "kernelspec": {
   "display_name": "Python 2",
   "language": "python",
   "name": "python2"
  },
  "language_info": {
   "codemirror_mode": {
    "name": "ipython",
    "version": 2
   },
   "file_extension": ".py",
   "mimetype": "text/x-python",
   "name": "python",
   "nbconvert_exporter": "python",
   "pygments_lexer": "ipython2",
   "version": "2.7.13"
  }
 },
 "nbformat": 4,
 "nbformat_minor": 2
}
