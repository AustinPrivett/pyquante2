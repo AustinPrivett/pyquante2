{
 "metadata": {
  "language": "Julia",
  "name": "",
  "signature": "sha256:3cae13e8c53fea81503f6e661dca7d42face457ae851647f4ca9bb4767e0eb36"
 },
 "nbformat": 3,
 "nbformat_minor": 0,
 "worksheets": [
  {
   "cells": [
    {
     "cell_type": "markdown",
     "metadata": {},
     "source": [
      "# PyQuante in Julia\n",
      "Experimenting with writing quantum chemistry in Julia"
     ]
    },
    {
     "cell_type": "markdown",
     "metadata": {},
     "source": [
      "## Utility functions"
     ]
    },
    {
     "cell_type": "code",
     "collapsed": false,
     "input": [
      "factorial2(n) = prod(n:-2:1) # double factorial !!\n",
      "dist2(dx,dy,dz) = dx*dx+dy*dy+dz*dz # Is there something in the standard library that does this?\n",
      "\n",
      "function pairs(n::Int64,which=\"diag\")\n",
      "    function _it()\n",
      "        for i in 1:n\n",
      "            if which==\"diag\"\n",
      "                upperlimit = i\n",
      "            elseif which==\"rect\"\n",
      "                upperlimit = n\n",
      "            else # subdiag\n",
      "                upperlimit = i-1\n",
      "            end\n",
      "            for j in 1:upperlimit\n",
      "                produce((i,j))\n",
      "            end\n",
      "        end\n",
      "    end\n",
      "    Task(_it)\n",
      "end\n",
      "\n",
      "triangle(i::Int64) = div(i*(i+1),2)\n",
      "triangle(i::Int64,j::Int64) = i<j ? triangle(j-1)+i : triangle(i-1)+j\n",
      "\n",
      "function iiterator(n::Int64)\n",
      "    function _it()\n",
      "        for (i,j) in pairs(n)\n",
      "            ij = triangle(i,j)\n",
      "            for (k,l) in pairs(n)\n",
      "                kl = triangle(k,l)\n",
      "                if ij <= kl\n",
      "                    produce((i,j,k,l))\n",
      "                end\n",
      "            end\n",
      "        end\n",
      "    end\n",
      "    Task(_it)\n",
      "end\n",
      "\n",
      "iindex(i::Int64,j::Int64,k::Int64,l::Int64) = triangle(triangle(i,j),triangle(k,l))\n",
      "trace2(A,B) = sum(A.*B)"
     ],
     "language": "python",
     "metadata": {},
     "outputs": [
      {
       "metadata": {},
       "output_type": "pyout",
       "prompt_number": 92,
       "text": [
        "trace2 (generic function with 1 method)"
       ]
      }
     ],
     "prompt_number": 92
    },
    {
     "cell_type": "code",
     "collapsed": false,
     "input": [
      "@assert factorial2(6)==48\n",
      "@assert collect(pairs(3)) == {(1,1),(2,1),(2,2),(3,1),(3,2),(3,3)}\n",
      "@assert collect(pairs(3,\"subdiag\")) == {(2,1),(3,1),(3,2)}\n",
      "@assert collect(pairs(2,\"rect\")) == {(1,1),(1,2),(2,1),(2,2)}\n",
      "@assert iindex(1,1,1,1) == 1\n",
      "@assert iindex(1,1,1,2) == iindex(1,1,2,1) == iindex(1,2,1,1) == iindex(2,1,1,1) == 2\n",
      "@assert iindex(1,1,2,2) == iindex(2,2,1,1) == 4"
     ],
     "language": "python",
     "metadata": {},
     "outputs": [],
     "prompt_number": 93
    },
    {
     "cell_type": "markdown",
     "metadata": {},
     "source": [
      "## Basis function definitions"
     ]
    },
    {
     "cell_type": "code",
     "collapsed": false,
     "input": [
      "type PGBF\n",
      "    expn::Float64\n",
      "    x::Float64\n",
      "    y::Float64\n",
      "    z::Float64\n",
      "    I::Int64\n",
      "    J::Int64\n",
      "    K::Int64\n",
      "    norm::Float64\n",
      "end\n",
      "\n",
      "function pgbf(expn,x=0,y=0,z=0,I=0,J=0,K=0,norm=1)\n",
      "    p = PGBF(expn,x,y,z,I,J,K,norm)\n",
      "    normalize!(p)\n",
      "    return p\n",
      "end\n",
      "\n",
      "function amplitude(bf::PGBF,x,y,z)\n",
      "    dx,dy,dz = x-bf.x,y-bf.y,z-bf.z\n",
      "    r2 = dist2(dx,dy,dz)\n",
      "    return bf.norm*(dx^bf.I)*(dy^bf.J)*(dz^bf.K)*exp(-bf.expn*r2)\n",
      "end\n",
      "\n",
      "function normalize!(pbf::PGBF)\n",
      "    pbf.norm /= sqrt(overlap(pbf,pbf))\n",
      "end"
     ],
     "language": "python",
     "metadata": {},
     "outputs": [
      {
       "metadata": {},
       "output_type": "pyout",
       "prompt_number": 94,
       "text": [
        "normalize! (generic function with 2 methods)"
       ]
      }
     ],
     "prompt_number": 94
    },
    {
     "cell_type": "code",
     "collapsed": false,
     "input": [
      "type CGBF\n",
      "    x::Float64\n",
      "    y::Float64\n",
      "    z::Float64\n",
      "    I::Int64\n",
      "    J::Int64\n",
      "    K::Int64\n",
      "    norm::Float64\n",
      "    pgbfs::Array{PGBF,1}\n",
      "    coefs::Array{Float64,1}\n",
      "end\n",
      "\n",
      "cgbf(x=0,y=0,z=0,I=0,J=0,K=0) = CGBF(x,y,z,I,J,K,1.0,PGBF[],Float64[])\n",
      "\n",
      "function amplitude(bf::CGBF,x,y,z)\n",
      "    s = 0\n",
      "    for (c,pbf) in primitives(bf)\n",
      "        s += c*amplitude(pbf,x,y,z)\n",
      "    end\n",
      "    return bf.norm*s\n",
      "end\n",
      "\n",
      "function normalize!(bf::CGBF)\n",
      "    bf.norm /= sqrt(overlap(bf,bf))\n",
      "end\n",
      "\n",
      "primitives(a::CGBF) = zip(a.coefs,a.pgbfs)\n",
      "\n",
      "function push!(cbf::CGBF,expn,coef)\n",
      "    Base.push!(cbf.pgbfs,pgbf(expn,cbf.x,cbf.y,cbf.z,cbf.I,cbf.J,cbf.K))\n",
      "    Base.push!(cbf.coefs,coef)\n",
      "    normalize!(cbf)\n",
      "end\n",
      "\n",
      "function contract(f,a::CGBF,b::CGBF)\n",
      "    s = 0\n",
      "    for (ca,abf) in primitives(a)\n",
      "        for (cb,bbf) in primitives(b)\n",
      "            s += ca*cb*f(abf,bbf)\n",
      "        end\n",
      "    end\n",
      "    return a.norm*b.norm*s\n",
      "end\n",
      "\n",
      "function contract(f,a::CGBF,b::CGBF,c::CGBF,d::CGBF)\n",
      "    s = 0\n",
      "    for (ca,abf) in primitives(a)\n",
      "        for (cb,bbf) in primitives(b)\n",
      "            for (cc,cbf) in primitives(c)\n",
      "                for (cd,dbf) in primitives(d)\n",
      "                    s += ca*cb*cc*cd*f(abf,bbf,cbf,dbf)\n",
      "                end\n",
      "            end\n",
      "        end\n",
      "    end\n",
      "    return a.norm*b.norm*c.norm*d.norm*s\n",
      "end\n"
     ],
     "language": "python",
     "metadata": {},
     "outputs": [
      {
       "metadata": {},
       "output_type": "pyout",
       "prompt_number": 95,
       "text": [
        "contract (generic function with 2 methods)"
       ]
      }
     ],
     "prompt_number": 95
    },
    {
     "cell_type": "code",
     "collapsed": false,
     "input": [
      "s = pgbf(1.0)\n",
      "px = pgbf(1.0,0,0,0,1,0,0)\n",
      "@assert isapprox(amplitude(s,0,0,0),0.71270547)\n",
      "@assert isapprox(amplitude(px,0,0,0),0)\n",
      "c = cgbf(0.0,0.0,0.0)\n",
      "push!(c,1,1)\n",
      "@assert isapprox(amplitude(c,0,0,0),0.71270547)\n",
      "c2 = cgbf(0,0,0)\n",
      "push!(c2,1,0.2)\n",
      "push!(c2,0.5,0.2)\n",
      "@assert isapprox(overlap(c2,c2),1)"
     ],
     "language": "python",
     "metadata": {},
     "outputs": [],
     "prompt_number": 127
    },
    {
     "cell_type": "markdown",
     "metadata": {},
     "source": [
      "## One-electron integrals\n",
      "### Overlap matrix elements"
     ]
    },
    {
     "cell_type": "code",
     "collapsed": false,
     "input": [
      "function overlap(a::PGBF,b::PGBF)\n",
      "    return a.norm*b.norm*overlap(a.expn,a.x,a.y,a.z,a.I,a.J,a.K,\n",
      "    b.expn,b.x,b.y,b.z,b.I,b.J,b.K)\n",
      "end\n",
      "\n",
      "overlap(a::CGBF,b::CGBF) = contract(overlap,a,b)\n",
      "\n",
      "function overlap(aexpn,ax,ay,az,aI,aJ,aK,bexpn,bx,by,bz,bI,bJ,bK)\n",
      "    gamma = aexpn+bexpn\n",
      "    px,py,pz = gaussian_product_center(aexpn,ax,ay,az,bexpn,bx,by,bz)\n",
      "    rab2 = dist2(ax-bx,ay-by,az-bz) \n",
      "    pre = (pi/gamma)^1.5*exp(-aexpn*bexpn*rab2/gamma)\n",
      "    wx = overlap1d(aI,bI,px-ax,px-bx,gamma)\n",
      "    wy = overlap1d(aJ,bJ,py-ay,py-by,gamma)\n",
      "    wz = overlap1d(aK,bK,pz-az,pz-bz,gamma)\n",
      "    return pre*wx*wy*wz\n",
      "end\n",
      "\n",
      "function gaussian_product_center(a::PGBF,b::PGBF)\n",
      "    return (a.expn*[a.x,a.y,a.z]+b.expn*[b.x,b.y,b.z])/(a.expn+b.expn)\n",
      "end\n",
      "\n",
      "function gaussian_product_center(aexpn,ax,ay,az,bexpn,bx,by,bz)\n",
      "    return (aexpn*[ax,ay,az]+bexpn*[bx,by,bz])/(aexpn+bexpn)    \n",
      "end\n",
      "\n",
      "function overlap1d(la,lb,ax,bx,gamma)\n",
      "    total = 0\n",
      "    for i in 0:div(la+lb,2)\n",
      "        total += binomial_prefactor(2i,la,lb,ax,bx)*factorial2(2i-1)/(2gamma)^i\n",
      "    end\n",
      "    return total\n",
      "end\n",
      "\n",
      "function binomial_prefactor(s,ia,ib,xpa,xpb)\n",
      "    #println(\"binomial_prefactor($s,$ia,$ib,$xpa,$xpb)\")\n",
      "    total = 0\n",
      "    for t in 0:s\n",
      "        if (s-ia) <= t <= ib\n",
      "            total += binomial(ia,s-t)*binomial(ib,t)*xpa^(ia-s+t)*xpb^(ib-t)\n",
      "        end\n",
      "    end\n",
      "    return total\n",
      "end"
     ],
     "language": "python",
     "metadata": {},
     "outputs": [
      {
       "metadata": {},
       "output_type": "pyout",
       "prompt_number": 97,
       "text": [
        "binomial_prefactor (generic function with 1 method)"
       ]
      }
     ],
     "prompt_number": 97
    },
    {
     "cell_type": "code",
     "collapsed": false,
     "input": [
      "@assert overlap1d(0,0,0,0,1) == 1\n",
      "@assert gaussian_product_center(s,s) == [0,0,0]\n",
      "@assert isapprox(overlap(s,s),1)\n",
      "@assert isapprox(overlap(px,px),1)\n",
      "@assert isapprox(overlap(s,px),0)\n",
      "@assert binomial_prefactor(0,0,0,0,0) == 1\n",
      "@assert isapprox(overlap(c,c),1)"
     ],
     "language": "python",
     "metadata": {},
     "outputs": [],
     "prompt_number": 98
    },
    {
     "cell_type": "markdown",
     "metadata": {},
     "source": [
      "### Kinetic matrix elements"
     ]
    },
    {
     "cell_type": "code",
     "collapsed": false,
     "input": [
      "function kinetic(a::PGBF,b::PGBF)\n",
      "    return a.norm*b.norm*kinetic(a.expn,a.x,a.y,a.z,a.I,a.J,a.K,\n",
      "                                b.expn,b.x,b.y,b.z,b.I,b.J,b.K)\n",
      "end\n",
      "\n",
      "function kinetic(aexpn,ax,ay,az,aI,aJ,aK,bexpn,bx,by,bz,bI,bJ,bK)\n",
      "    overlap0 = overlap(aexpn,ax,ay,az,aI,aJ,aK,bexpn,bx,by,bz,bI,bJ,bK)\n",
      "    overlapx1 = overlap(aexpn,ax,ay,az,aI,aJ,aK,bexpn,bx,by,bz,bI+2,bJ,bK)\n",
      "    overlapy1 = overlap(aexpn,ax,ay,az,aI,aJ,aK,bexpn,bx,by,bz,bI,bJ+2,bK)\n",
      "    overlapz1 = overlap(aexpn,ax,ay,az,aI,aJ,aK,bexpn,bx,by,bz,bI,bJ,bK+2)\n",
      "    overlapx2 = overlap(aexpn,ax,ay,az,aI,aJ,aK,bexpn,bx,by,bz,bI-2,bJ,bK)\n",
      "    overlapy2 = overlap(aexpn,ax,ay,az,aI,aJ,aK,bexpn,bx,by,bz,bI,bJ-2,bK)\n",
      "    overlapz2 = overlap(aexpn,ax,ay,az,aI,aJ,aK,bexpn,bx,by,bz,bI,bJ,bK-2)\n",
      "    term0 = bexpn*(2*(bI+bJ+bK)+3)*overlap0\n",
      "    term1 = -2*(bexpn^2)*(overlapx1+overlapy1+overlapz1)\n",
      "    term2 = -0.5*(bI*(bI-1)*overlapx2+bJ*(bJ-1)*overlapy2+bK*(bK-1)*overlapz2)\n",
      "    return term0+term1+term2\n",
      "end\n",
      "\n",
      "kinetic(a::CGBF,b::CGBF) = contract(kinetic,a,b)"
     ],
     "language": "python",
     "metadata": {},
     "outputs": [
      {
       "metadata": {},
       "output_type": "pyout",
       "prompt_number": 99,
       "text": [
        "kinetic (generic function with 3 methods)"
       ]
      }
     ],
     "prompt_number": 99
    },
    {
     "cell_type": "code",
     "collapsed": false,
     "input": [
      "@assert isapprox(kinetic(1,0,0,0,0,0,0,1,0,0,0,0,0,0),2.9530518648229536)\n",
      "@assert isapprox(kinetic(s,s),1.5)\n",
      "@assert isapprox(kinetic(c,c),1.5)"
     ],
     "language": "python",
     "metadata": {},
     "outputs": [],
     "prompt_number": 100
    },
    {
     "cell_type": "markdown",
     "metadata": {},
     "source": [
      "### Nuclear attraction term"
     ]
    },
    {
     "cell_type": "code",
     "collapsed": false,
     "input": [
      "function Aterm(i,r,u,l1,l2,ax,bx,cx,gamma)\n",
      "    term1 = (-1)^i*binomial_prefactor(i,l1,l2,ax,bx)\n",
      "    term2 = (-1)^u*factorial(i)*cx^(i-2r-2u)\n",
      "    term3 = (1/4/gamma)^(r+u)/factorial(r)/factorial(u)/factorial(i-2r-2u)\n",
      "    return term1*term2*term3\n",
      "end\n",
      "\n",
      "function Aarray(l1,l2,a,b,c,g)\n",
      "    Imax = l1+l2+1\n",
      "    A = zeros(Float64,Imax)\n",
      "    for i in 0:(Imax-1)\n",
      "        for r in 0:div(i,2)\n",
      "            for u in 0:div(i-2r,2)\n",
      "                I = i-2r-u+1\n",
      "                A[I] += Aterm(i,r,u,l1,l2,a,b,c,g)\n",
      "            end\n",
      "        end\n",
      "    end\n",
      "    return A\n",
      "end\n",
      "\n",
      "function nuclear_attraction(aexpn,ax,ay,az,aI,aJ,aK,bexpn,bx,by,bz,bI,bJ,bK,cx,cy,cz)\n",
      "    px,py,pz = gaussian_product_center(aexpn,ax,ay,az,bexpn,bx,by,bz)\n",
      "    gamma = aexpn+bexpn\n",
      "    rab2 = dist2(ax-bx,ay-by,az-bz)\n",
      "    rcp2 = dist2(cx-px,cy-py,cz-pz)\n",
      "    Ax = Aarray(aI,bI,px-ax,px-bx,px-cx,gamma)\n",
      "    Ay = Aarray(aJ,bJ,py-ay,py-by,py-cy,gamma)\n",
      "    Az = Aarray(aK,bK,pz-az,pz-bz,pz-cz,gamma)\n",
      "    total = 0\n",
      "    for I in 0:(aI+bI)\n",
      "        for J in 0:(aJ+bJ)\n",
      "            for K in 0:(aK+bK)\n",
      "                total += Ax[I+1]*Ay[J+1]*Az[K+1]*Fgamma(I+J+K,rcp2*gamma)\n",
      "            end\n",
      "        end\n",
      "    end\n",
      "    return -2pi/gamma*exp(-aexpn*bexpn*rab2/gamma)*total\n",
      "end\n",
      "\n",
      "function nuclear_attraction(a::PGBF,b::PGBF,cx,cy,cz)\n",
      "    return a.norm*b.norm*nuclear_attraction(a.expn,a.x,a.y,a.z,a.I,a.J,a.K,\n",
      "    b.expn,b.x,b.y,b.z,b.I,b.J,b.K,cx,cy,cz)\n",
      "end\n",
      "\n",
      "function Fgamma(m,x,SMALL=1e-12)\n",
      "    #println(\"Fgamma($m,$x)\")\n",
      "    x = max(x,SMALL) # Evidently needs underflow protection\n",
      "    return 0.5*x^(-m-0.5)*gammainc(m+0.5,x)\n",
      "end\n",
      "\n",
      "function gammainc(a,x)\n",
      "    # This is the series version of gamma from pyquante. For reasons I don't get, it \n",
      "    # doesn't work around a=1. This works alright, but is only a stopgap solution\n",
      "    # until Julia gets an incomplete gamma function programmed\n",
      "    if abs(a-1) < 1e-3\n",
      "        println(\"Warning: gammainc_series is known to have problems for a ~ 1\")\n",
      "    end\n",
      "    gamser,gln = gser(a,x)\n",
      "    return exp(gln)*gamser\n",
      "end\n",
      "\n",
      "function gser(a,x,ITMAX=100,EPS=3e-9)\n",
      "    # Series representation of Gamma. NumRec sect 6.1.\n",
      "    gln=lgamma(a)\n",
      "    if x == 0\n",
      "        return 0,gln\n",
      "    end\n",
      "    ap = a\n",
      "    delt = s = 1/a\n",
      "    for i in 1:ITMAX\n",
      "        ap += 1\n",
      "        delt *= (x/ap)\n",
      "        s += delt\n",
      "        if abs(delt) < abs(s)*EPS\n",
      "            break\n",
      "        end\n",
      "    end\n",
      "    return s*exp(-x+a*log(x)-gln),gln\n",
      "end\n",
      "\n",
      "# Need a nested scope to squeeze this into the contract function\n",
      "function nuclear_attraction(a::CGBF,b::CGBF,cx,cy,cz)\n",
      "    na(a,b) = nuclear_attraction(a,b,cx,cy,cz)\n",
      "    contract(na,a,b)\n",
      "end"
     ],
     "language": "python",
     "metadata": {},
     "outputs": [
      {
       "metadata": {},
       "output_type": "pyout",
       "prompt_number": 101,
       "text": [
        "nuclear_attraction (generic function with 3 methods)"
       ]
      }
     ],
     "prompt_number": 101
    },
    {
     "cell_type": "code",
     "collapsed": false,
     "input": [
      "@assert Aterm(0,0,0,0,0,0,0,0,0) == 1.0\n",
      "@assert Aarray(0,0,0,0,0,1) == [1.0]\n",
      "@assert Aarray(0,1,1,1,1,1) == [1.0, -1.0]\n",
      "@assert Aarray(1,1,1,1,1,1) == [1.5, -2.5, 1.0]\n",
      "@assert Aterm(0,0,0,0,0,0,0,0,1) == 1.0\n",
      "@assert Aterm(0,0,0,0,1,1,1,1,1) == 1.0\n",
      "@assert Aterm(1,0,0,0,1,1,1,1,1) == -1.0\n",
      "@assert Aterm(0,0,0,1,1,1,1,1,1) == 1.0\n",
      "@assert Aterm(1,0,0,1,1,1,1,1,1) == -2.0\n",
      "@assert Aterm(2,0,0,1,1,1,1,1,1) == 1.0\n",
      "@assert Aterm(2,0,1,1,1,1,1,1,1) == -0.5\n",
      "@assert Aterm(2,1,0,1,1,1,1,1,1) == 0.5"
     ],
     "language": "python",
     "metadata": {},
     "outputs": [],
     "prompt_number": 102
    },
    {
     "cell_type": "code",
     "collapsed": false,
     "input": [
      "# gammainc test functions. Test values taken from Mathematica\n",
      "# println(\"a=0.5 test\")\n",
      "@assert maximum([gammainc(0.5,x) for x in 0:10]\n",
      "        -{0, 1.49365, 1.69181, 1.7471, 1.76416, 1.76968, \n",
      "            1.77151, 1.77213, 1.77234, 1.77241, 1.77244}) < 1e-5\n",
      "    \n",
      "# println(\"a=1.5 test\")\n",
      "@assert maximum([gammainc(1.5,x) for x in 0:10]\n",
      "        -{0, 1.49365, 1.69181, 1.7471, 1.76416, 1.76968, \n",
      "            1.77151, 1.77213, 1.77234, 1.77241, 1.77244}) < 1e-5\n",
      "# println(\"a=2.5 test\")\n",
      "@assert maximum([gammainc(2.5,x) for x in 0:10]\n",
      "        -{0, 0.200538, 0.59898, 0.922271, 1.12165, 1.22933, \n",
      "            1.2831, 1.30859, 1.32024, 1.32542, 1.32768}) < 1e-5"
     ],
     "language": "python",
     "metadata": {},
     "outputs": [],
     "prompt_number": 103
    },
    {
     "cell_type": "code",
     "collapsed": false,
     "input": [
      "@assert isapprox(nuclear_attraction(s,s,0,0,0),-1.59576912)\n",
      "@assert isapprox(nuclear_attraction(c,c,0,0,0),-1.595769)"
     ],
     "language": "python",
     "metadata": {},
     "outputs": [],
     "prompt_number": 104
    },
    {
     "cell_type": "markdown",
     "metadata": {},
     "source": [
      "## Two electron integrals"
     ]
    },
    {
     "cell_type": "code",
     "collapsed": false,
     "input": [
      "function coulomb(aexpn,ax,ay,az,aI,aJ,aK,\n",
      "    bexpn,bx,by,bz,bI,bJ,bK,\n",
      "    cexpn,cx,cy,cz,cI,cJ,cK,\n",
      "    dexpn,dx,dy,dz,dI,dJ,dK)\n",
      "    # This is the slow method of computing integrals from Huzinaga et al.\n",
      "    # Use the HRR/VRR scheme from Head-Gordon & Pople instead\n",
      "\n",
      "    rab2 = dist2(ax-bx,ay-by,az-bz)\n",
      "    rcd2 = dist2(cx-dx,cy-dy,cz-dz)\n",
      "    \n",
      "    px,py,pz = gaussian_product_center(aexpn,ax,ay,az,bexpn,bx,by,bz)\n",
      "    qx,qy,qz = gaussian_product_center(cexpn,cx,cy,cz,dexpn,dx,dy,dz)\n",
      "    rpq2 = dist2(px-qx,py-qy,pz-qz)\n",
      "\n",
      "    g1 = aexpn+bexpn\n",
      "    g2 = cexpn+dexpn\n",
      "    delta = 0.25*(1/g1+1/g2)\n",
      "    \n",
      "    Bx = Barray(aI,bI,cI,dI,px,ax,bx,qx,cx,dx,g1,g2,delta)\n",
      "    By = Barray(aJ,bJ,cJ,dJ,py,ay,by,qy,cy,dy,g1,g2,delta)\n",
      "    Bz = Barray(aK,bK,cK,dK,pz,az,bz,qz,cz,dz,g1,g2,delta)\n",
      "    \n",
      "    s = 0\n",
      "    for I in 0:(aI+bI+cI+dI)\n",
      "        for J in 0:(aJ+bJ+cJ+dJ)\n",
      "            for K in 0:(aK+bK+cK+dK)\n",
      "                s += Bx[I+1]*By[J+1]*Bz[K+1]*Fgamma(I+J+K,0.25*rpq2/delta)\n",
      "            end\n",
      "        end\n",
      "    end\n",
      "    return 2*pi^(2.5)/(g1*g2*sqrt(g1+g2))*exp(-aexpn*bexpn*rab2/g1)*exp(-cexpn*dexpn*rcd2/g2)*s\n",
      "end\n",
      "\n",
      "function coulomb(a::PGBF,b::PGBF,c::PGBF,d::PGBF)\n",
      "    return a.norm*b.norm*c.norm*d.norm*coulomb(a.expn,a.x,a.y,a.z,a.I,a.J,a.K,\n",
      "        b.expn,b.x,b.y,b.z,b.I,b.J,b.K,\n",
      "        c.expn,c.x,c.y,c.z,c.I,c.J,c.K,\n",
      "        d.expn,d.x,d.y,d.z,d.I,d.J,d.K)\n",
      "end\n",
      "\n",
      "fB(i,l1,l2,p,a,b,r,g) = binomial_prefactor(i,l1,l2,p-a,p-b)*B0(i,r,g)\n",
      "B0(i,r,g) = fact_ratio2(i,r)*(4g)^(r-i)\n",
      "fact_ratio2(a,b) = factorial(a,b)/factorial(a-2b)\n",
      "\n",
      "function Bterm(i1,i2,r1,r2,u,l1,l2,l3,l4,Px,Ax,Bx,Qx,Cx,Dx,gamma1,gamma2,delta)\n",
      "    # THO eq. 2.22\n",
      "    return fB(i1,l1,l2,Px,Ax,Bx,r1,gamma1)*(-1)^i2*fB(i2,l3,l4,Qx,Cx,Dx,r2,gamma2)\n",
      "           *(-1)^u*fact_ratio2(i1+i2-2*(r1+r2),u)\n",
      "           *(Qx-Px)^(i1+i2-2*(r1+r2)-2*u)/delta^(i1+i2-2*(r1+r2)-u)\n",
      "end\n",
      "\n",
      "function Barray(l1,l2,l3,l4,p,a,b,q,c,d,g1,g2,delta)\n",
      "    Imax = l1+l2+l3+l4+1\n",
      "    B = zeros(Int64,Imax)\n",
      "    for i1 in 0:(l1+l2)\n",
      "        for i2 in 0:(l3+l4)\n",
      "            for r1 in 0:div(i1,2)\n",
      "                for r2 in 0:div(i2,2)\n",
      "                    for u in 0:(div(i1+i2,2)-r1-r2)\n",
      "                        I = i1+i2-2*(r1+r2)-u\n",
      "                        B[I+1] += Bterm(i1,i2,r1,r2,u,l1,l2,l3,l4,p,a,b,q,c,d,g1,g2,delta)\n",
      "                    end\n",
      "                end\n",
      "            end\n",
      "        end\n",
      "    end\n",
      "    return B\n",
      "end\n",
      "\n",
      "coulomb(a::CGBF,b::CGBF,c::CGBF,d::CGBF) = contract(coulomb,a,b,c,d)"
     ],
     "language": "python",
     "metadata": {},
     "outputs": [
      {
       "metadata": {},
       "output_type": "pyout",
       "prompt_number": 105,
       "text": [
        "coulomb (generic function with 3 methods)"
       ]
      }
     ],
     "prompt_number": 105
    },
    {
     "cell_type": "code",
     "collapsed": false,
     "input": [
      "@assert fB(0,0,0,0.0,0.0,0.0,0,2.0) == 1\n",
      "@assert fB(0,0,0,1.0,1.0,1.0,0,2.0) == 1\n",
      "@assert B0(0,0,2.0) == 1\n",
      "@assert fact_ratio2(0,0) == 1\n",
      "@assert Bterm(0,0,0,0,0,0,0,0,0,0.0,0.0,0.0,0.0,0.0,0.0,2.0,2.0,0.25)==1"
     ],
     "language": "python",
     "metadata": {},
     "outputs": [],
     "prompt_number": 106
    },
    {
     "cell_type": "code",
     "collapsed": false,
     "input": [
      "@assert isapprox(coulomb(1, 0,0,0, 0,0,0, 1, 0,0,0, 0,0,0, 1, 0,0,0, 0,0,0, 1, 0,0,0, 0,0,0),4.373355)\n",
      "@assert isapprox(coulomb(s,s,s,s),1.128379)\n",
      "@assert isapprox(coulomb(c,c,c,c),1.128379)\n",
      "@assert isapprox(coulomb(1, 0,0,0, 0,0,0, 1, 0,0,1, 0,0,0, 1, 0,0,0, 0,0,0, 1, 0,0,1, 0,0,0),1.6088672)"
     ],
     "language": "python",
     "metadata": {},
     "outputs": [],
     "prompt_number": 107
    },
    {
     "cell_type": "markdown",
     "metadata": {},
     "source": [
      "## Basis Set Data\n",
      "Note use of curly braces here. Julia assumes that if you have square braces, you want\n",
      "things flattened as much as possible (to be as fast as possible, I guess). Curlys \n",
      "preserve the list structure the way I would expect from Python"
     ]
    },
    {
     "cell_type": "code",
     "collapsed": false,
     "input": [
      "sto3g = {\n",
      "    # H\n",
      "    [('S',\n",
      "      [(3.4252509099999999, 0.15432897000000001),\n",
      "       (0.62391373000000006, 0.53532813999999995),\n",
      "       (0.16885539999999999, 0.44463454000000002)])],\n",
      "    # He\n",
      "    [('S',\n",
      "      [(6.3624213899999997, 0.15432897000000001),\n",
      "       (1.1589229999999999, 0.53532813999999995),\n",
      "       (0.31364978999999998, 0.44463454000000002)])],\n",
      "    # Li\n",
      "    [('S',\n",
      "      [(16.119575000000001, 0.15432897000000001),\n",
      "       (2.9362007000000001, 0.53532813999999995),\n",
      "       (0.79465050000000004, 0.44463454000000002)]),\n",
      "     ('S',\n",
      "      [(0.63628969999999996, -0.099967230000000004),\n",
      "       (0.14786009999999999, 0.39951282999999999),\n",
      "       (0.048088699999999998, 0.70011546999999996)]),\n",
      "     ('P',\n",
      "      [(0.63628969999999996, 0.15591627),\n",
      "       (0.14786009999999999, 0.60768372000000004),\n",
      "       (0.048088699999999998, 0.39195739000000002)])],\n",
      "    # Be\n",
      "    [('S',\n",
      "      [(30.167871000000002, 0.15432897000000001),\n",
      "       (5.4951153000000001, 0.53532813999999995),\n",
      "       (1.4871927, 0.44463454000000002)]),\n",
      "     ('S',\n",
      "      [(1.3148331, -0.099967230000000004),\n",
      "       (0.3055389, 0.39951282999999999),\n",
      "       (0.099370700000000006, 0.70011546999999996)]),\n",
      "     ('P',\n",
      "      [(1.3148331, 0.15591627),\n",
      "       (0.3055389, 0.60768372000000004),\n",
      "       (0.099370700000000006, 0.39195739000000002)])],\n",
      "    # B\n",
      "    [('S',\n",
      "      [(48.791113000000003, 0.15432897000000001),\n",
      "       (8.8873622000000001, 0.53532813999999995),\n",
      "       (2.4052669999999998, 0.44463454000000002)]),\n",
      "     ('S',\n",
      "      [(2.2369561, -0.099967230000000004),\n",
      "       (0.51982050000000002, 0.39951282999999999),\n",
      "       (0.16906180000000001, 0.70011546999999996)]),\n",
      "     ('P',\n",
      "      [(2.2369561, 0.15591627),\n",
      "       (0.51982050000000002, 0.60768372000000004),\n",
      "       (0.16906180000000001, 0.39195739000000002)])],\n",
      "    # C\n",
      "    [('S',\n",
      "      [(71.616837000000004, 0.15432897000000001),\n",
      "       (13.045095999999999, 0.53532813999999995),\n",
      "       (3.5305122, 0.44463454000000002)]),\n",
      "     ('S',\n",
      "      [(2.9412493999999998, -0.099967230000000004),\n",
      "       (0.68348310000000001, 0.39951282999999999),\n",
      "       (0.22228990000000001, 0.70011546999999996)]),\n",
      "     ('P',\n",
      "      [(2.9412493999999998, 0.15591627),\n",
      "       (0.68348310000000001, 0.60768372000000004),\n",
      "       (0.22228990000000001, 0.39195739000000002)])],\n",
      "    # N\n",
      "    [('S',\n",
      "      [(99.106168999999994, 0.15432897000000001),\n",
      "       (18.052312000000001, 0.53532813999999995),\n",
      "       (4.8856602000000002, 0.44463454000000002)]),\n",
      "     ('S',\n",
      "      [(3.7804559000000002, -0.099967230000000004),\n",
      "       (0.87849659999999996, 0.39951282999999999),\n",
      "       (0.28571439999999998, 0.70011546999999996)]),\n",
      "     ('P',\n",
      "      [(3.7804559000000002, 0.15591627),\n",
      "       (0.87849659999999996, 0.60768372000000004),\n",
      "       (0.28571439999999998, 0.39195739000000002)])],\n",
      "    # O\n",
      "    [('S',\n",
      "      [(130.70931999999999, 0.15432897000000001),\n",
      "       (23.808861, 0.53532813999999995),\n",
      "       (6.4436083000000002, 0.44463454000000002)]),\n",
      "     ('S',\n",
      "      [(5.0331513000000001, -0.099967230000000004),\n",
      "       (1.1695960999999999, 0.39951282999999999),\n",
      "       (0.38038899999999998, 0.70011546999999996)]),\n",
      "     ('P',\n",
      "      [(5.0331513000000001, 0.15591627),\n",
      "       (1.1695960999999999, 0.60768372000000004),\n",
      "       (0.38038899999999998, 0.39195739000000002)])],\n",
      "    # F\n",
      "    [('S',\n",
      "      [(166.67912999999999, 0.15432897000000001),\n",
      "       (30.360811999999999, 0.53532813999999995),\n",
      "       (8.2168206999999995, 0.44463454000000002)]),\n",
      "     ('S',\n",
      "      [(6.4648032000000004, -0.099967230000000004),\n",
      "       (1.5022812000000001, 0.39951282999999999),\n",
      "       (0.48858849999999998, 0.70011546999999996)]),\n",
      "     ('P',\n",
      "      [(6.4648032000000004, 0.15591627),\n",
      "       (1.5022812000000001, 0.60768372000000004),\n",
      "       (0.48858849999999998, 0.39195739000000002)])],\n",
      "    # Ne\n",
      "    [('S',\n",
      "       [(207.01561000000001, 0.15432897000000001),\n",
      "        (37.708151000000001, 0.53532813999999995),\n",
      "        (10.205297, 0.44463454000000002)]),\n",
      "      ('S',\n",
      "       [(8.2463151000000003, -0.099967230000000004),\n",
      "        (1.9162661999999999, 0.39951282999999999),\n",
      "        (0.62322929999999999, 0.70011546999999996)]),\n",
      "      ('P',\n",
      "       [(8.2463151000000003, 0.15591627),\n",
      "        (1.9162661999999999, 0.60768372000000004),\n",
      "            (0.62322929999999999, 0.39195739000000002)])]\n",
      "}\n",
      "basis_set_data = {\"sto3g\" => sto3g}"
     ],
     "language": "python",
     "metadata": {},
     "outputs": [
      {
       "metadata": {},
       "output_type": "pyout",
       "prompt_number": 108,
       "text": [
        "{\"sto3g\"=>{[('S',[(3.42525091,0.15432897),(0.62391373,0.53532814),(0.1688554,0.44463454)])],[('S',[(6.36242139,0.15432897),(1.158923,0.53532814),(0.31364979,0.44463454)])],[('S',[(16.119575,0.15432897),(2.9362007,0.53532814),(0.7946505,0.44463454)]),('S',[(0.6362897,-0.09996723),(0.1478601,0.39951283),(0.0480887,0.70011547)]),('P',[(0.6362897,0.15591627),(0.1478601,0.60768372),(0.0480887,0.39195739)])],[('S',[(30.167871,0.15432897),(5.4951153,0.53532814),(1.4871927,0.44463454)]),('S',[(1.3148331,-0.09996723),(0.3055389,0.39951283),(0.0993707,0.70011547)]),('P',[(1.3148331,0.15591627),(0.3055389,0.60768372),(0.0993707,0.39195739)])],[('S',[(48.791113,0.15432897),(8.8873622,0.53532814),(2.405267,0.44463454)]),('S',[(2.2369561,-0.09996723),(0.5198205,0.39951283),(0.1690618,0.70011547)]),('P',[(2.2369561,0.15591627),(0.5198205,0.60768372),(0.1690618,0.39195739)])],[('S',[(71.616837,0.15432897),(13.045096,0.53532814),(3.5305122,0.44463454)]),('S',[(2.9412494,-0.09996723),(0.6834831,0.39951283),(0.2222899,0.70011547)]),('P',[(2.9412494,0.15591627),(0.6834831,0.60768372),(0.2222899,0.39195739)])],[('S',[(99.106169,0.15432897),(18.052312,0.53532814),(4.8856602,0.44463454)]),('S',[(3.7804559,-0.09996723),(0.8784966,0.39951283),(0.2857144,0.70011547)]),('P',[(3.7804559,0.15591627),(0.8784966,0.60768372),(0.2857144,0.39195739)])],[('S',[(130.70932,0.15432897),(23.808861,0.53532814),(6.4436083,0.44463454)]),('S',[(5.0331513,-0.09996723),(1.1695961,0.39951283),(0.380389,0.70011547)]),('P',[(5.0331513,0.15591627),(1.1695961,0.60768372),(0.380389,0.39195739)])],[('S',[(166.67913,0.15432897),(30.360812,0.53532814),(8.2168207,0.44463454)]),('S',[(6.4648032,-0.09996723),(1.5022812,0.39951283),(0.4885885,0.70011547)]),('P',[(6.4648032,0.15591627),(1.5022812,0.60768372),(0.4885885,0.39195739)])],[('S',[(207.01561,0.15432897),(37.708151,0.53532814),(10.205297,0.44463454)]),('S',[(8.2463151,-0.09996723),(1.9162662,0.39951283),(0.6232293,0.70011547)]),('P',[(8.2463151,0.15591627),(1.9162662,0.60768372),(0.6232293,0.39195739)])]}}"
       ]
      }
     ],
     "prompt_number": 108
    },
    {
     "cell_type": "code",
     "collapsed": false,
     "input": [
      "@assert length(sto3g)==10"
     ],
     "language": "python",
     "metadata": {},
     "outputs": [],
     "prompt_number": 109
    },
    {
     "cell_type": "markdown",
     "metadata": {},
     "source": [
      "## Atoms and Molecules"
     ]
    },
    {
     "cell_type": "code",
     "collapsed": false,
     "input": [
      "type Atom\n",
      "    atno::Int64\n",
      "    x::Float64\n",
      "    y::Float64\n",
      "    z::Float64\n",
      "end\n",
      "\n",
      "type Molecule\n",
      "    atomlist::Array{Atom,1}\n",
      "end\n",
      "\n",
      "function push!(mol::Molecule,at::Atom)\n",
      "    Base.push!(atomlist,at)\n",
      "end\n",
      "\n",
      "tobohr(x::Float64) = x/0.52918\n",
      "function tobohr!(at::Atom)\n",
      "    at.x /= 0.52918\n",
      "    at.y /= 0.52918\n",
      "    at.z /= 0.52918\n",
      "end\n",
      "function tobohr!(mol::Molecule)\n",
      "    for at in mol.atomlist\n",
      "        tobohr!(at)\n",
      "    end\n",
      "end\n",
      "\n",
      "nuclear_repulsion(a::Atom,b::Atom)= a.atno*b.atno/sqrt(dist2(a.x-b.x,a.y-b.y,a.z-b.z))\n",
      "function nuclear_repulsion(mol::Molecule)\n",
      "    nr = 0\n",
      "    for (i,j) in pairs(nat(mol),\"subdiag\")\n",
      "        nr += nuclear_repulsion(mol.atomlist[i],mol.atomlist[j])\n",
      "    end\n",
      "    return nr\n",
      "end\n",
      "\n",
      "nel(mol::Molecule) = sum([at.atno for at in mol.atomlist])\n",
      "nat(mol::Molecule) = length(mol.atomlist)\n",
      "\n",
      "# Other molecule methods to implement\n",
      "# nocc, nclosed, nopen, nup, ndown, stoich, mass,\n",
      "# center_of_mass, center!\n",
      "\n",
      "# Array of symbols, masses"
     ],
     "language": "python",
     "metadata": {},
     "outputs": [
      {
       "metadata": {},
       "output_type": "pyout",
       "prompt_number": 110,
       "text": [
        "nat (generic function with 1 method)"
       ]
      }
     ],
     "prompt_number": 110
    },
    {
     "cell_type": "code",
     "collapsed": false,
     "input": [
      "# Sample molecules for tests\n",
      "h2 = Molecule([Atom(1,  0.00000000,     0.00000000,     0.36628549),\n",
      "               Atom(1,  0.00000000,     0.00000000,    -0.36628549)])\n",
      "\n",
      "h2o = Molecule([Atom(8,   0.00000000,     0.00000000,     0.04851804),\n",
      "                Atom(1,   0.75300223,     0.00000000,    -0.51923377),\n",
      "                Atom(1,  -0.75300223,     0.00000000,    -0.51923377)])\n",
      "\n",
      "ch4 = Molecule([Atom(6,   0.00000000,     0.00000000,     0.00000000),\n",
      "                Atom(1,   0.62558332,    -0.62558332,     0.62558332),\n",
      "                Atom(1,  -0.62558332,     0.62558332,     0.62558332),\n",
      "                Atom(1,   0.62558332,     0.62558332,    -0.62558332),\n",
      "                Atom(1,  -0.62558332,    -0.62558332,    -0.62558332)])\n",
      "\n",
      "c6h6 = Molecule([ Atom(6,  0.98735329,     0.98735329,     0.00000000),\n",
      "                  Atom(6,  1.34874967,    -0.36139639,     0.00000000),\n",
      "                  Atom(6,  0.36139639,    -1.34874967,     0.00000000),\n",
      "                  Atom(6, -0.98735329,    -0.98735329,     0.00000000),\n",
      "                  Atom(6, -1.34874967,     0.36139639,     0.00000000),\n",
      "                  Atom(6, -0.36139639,     1.34874967,     0.00000000),\n",
      "                  Atom(1,  1.75551741,     1.75551741,     0.00000000),\n",
      "                  Atom(1,  2.39808138,    -0.64256397,     0.00000000),\n",
      "                  Atom(1,  0.64256397,    -2.39808138,     0.00000000),\n",
      "                  Atom(1, -1.75551741,    -1.75551741,     0.00000000),\n",
      "                  Atom(1, -2.39808138,     0.64256397,     0.00000000),\n",
      "                  Atom(1, -0.64256397,     2.39808138,     0.00000000)])\n",
      "\n",
      "# Convert to atomic units (bohr)\n",
      "tobohr!(h2)\n",
      "tobohr!(h2o)\n",
      "tobohr!(ch4)\n",
      "tobohr!(c6h6)"
     ],
     "language": "python",
     "metadata": {},
     "outputs": [],
     "prompt_number": 111
    },
    {
     "cell_type": "code",
     "collapsed": false,
     "input": [
      "@assert isapprox(nuclear_repulsion(h2),0.7223600367)\n",
      "@assert nel(h2) == 2\n",
      "@assert nel(h2o) == 10"
     ],
     "language": "python",
     "metadata": {},
     "outputs": [],
     "prompt_number": 112
    },
    {
     "cell_type": "code",
     "collapsed": false,
     "input": [
      "type BasisSet # list of CGBFs\n",
      "    bfs::Array{CGBF,1}\n",
      "end\n",
      "\n",
      "basisset() = BasisSet(CGBF[])\n",
      "\n",
      "function push!(basis::BasisSet,cbf::CGBF)\n",
      "    Base.push!(basis.bfs,cbf)\n",
      "end\n",
      "\n",
      "function build_basis(mol::Molecule,name=\"sto3g\")\n",
      "    data = basis_set_data[name]\n",
      "    basis_set = basisset()\n",
      "    for atom in mol.atomlist\n",
      "        for btuple in data[atom.atno]\n",
      "            sym,primlist = btuple\n",
      "            for (I,J,K) in sym2power[sym]\n",
      "                cbf = cgbf(atom.x,atom.y,atom.z,I,J,K)\n",
      "                push!(basis_set,cbf)\n",
      "                for (expn,coef) in primlist\n",
      "                    push!(cbf,expn,coef)\n",
      "                end\n",
      "            end\n",
      "        end\n",
      "    end\n",
      "    return basis_set\n",
      "end\n",
      "\n",
      "sym2power = {\n",
      "    'S' => [(0,0,0)],\n",
      "    'P' => [(1,0,0),(0,1,0),(0,0,1)],\n",
      "    'D' => [(2,0,0),(0,2,0),(0,0,2),(1,1,0),(1,0,1),(0,1,1)]\n",
      "    } \n"
     ],
     "language": "python",
     "metadata": {},
     "outputs": [
      {
       "metadata": {},
       "output_type": "pyout",
       "prompt_number": 113,
       "text": [
        "{'D'=>[(2,0,0),(0,2,0),(0,0,2),(1,1,0),(1,0,1),(0,1,1)],'S'=>[(0,0,0)],'P'=>[(1,0,0),(0,1,0),(0,0,1)]}"
       ]
      }
     ],
     "prompt_number": 113
    },
    {
     "cell_type": "code",
     "collapsed": false,
     "input": [
      "bfs = build_basis(h2)\n",
      "@assert length(bfs.bfs)==2\n",
      "l,r = bfs.bfs\n",
      "@assert isapprox(overlap(l,l),1)\n",
      "@assert isapprox(overlap(r,r),1)\n",
      "@assert isapprox(overlap(l,r),0.66473625)\n",
      "@assert isapprox(kinetic(l,l),0.76003188)\n",
      "@assert isapprox(kinetic(r,r),0.76003188)\n",
      "@assert isapprox(kinetic(l,r),0.24141861181119084)\n",
      "@assert isapprox(coulomb(l,l,l,l), 0.7746059439196398)\n",
      "@assert isapprox(coulomb(r,r,r,r), 0.7746059439196398)\n",
      "@assert isapprox(coulomb(l,l,r,r), 0.5727937653511646)\n",
      "@assert isapprox(coulomb(l,l,l,r), 0.4488373301593464)\n",
      "@assert isapprox(coulomb(l,r,l,r), 0.3025451156654606)"
     ],
     "language": "python",
     "metadata": {},
     "outputs": [],
     "prompt_number": 133
    },
    {
     "cell_type": "code",
     "collapsed": false,
     "input": [
      "function all_1e_ints(bfs,mol)\n",
      "    n = length(bfs.bfs)\n",
      "    S = Array(Float64,(n,n))\n",
      "    T = Array(Float64,(n,n))\n",
      "    V = Array(Float64,(n,n))\n",
      "    for (i,j) in pairs(n)\n",
      "        a,b = bfs.bfs[i],bfs.bfs[j]\n",
      "        S[i,j] = S[j,i] = overlap(a,b)\n",
      "        T[i,j] = T[j,i] = kinetic(a,b)\n",
      "        V[i,j] = 0\n",
      "        for at in mol.atomlist\n",
      "            V[i,j] += nuclear_attraction(a,b,at.x,at.y,at.z)\n",
      "        end\n",
      "        V[j,i] = V[i,j]\n",
      "    end\n",
      "    return S,T,V\n",
      "end\n",
      "\n",
      "function all_twoe_ints(bflist,ERI=coulomb)\n",
      "    n = length(bflist.bfs)\n",
      "    totlen = div(n*(n+1)*(n*n+n+2),8)\n",
      "    ints2e = Array(Float64,totlen)\n",
      "    for (i,j,k,l) in iiterator(n)\n",
      "        #println(\"$i,$j,$k,$l,$(iindex(i,j,k,l))\")\n",
      "        ints2e[iindex(i,j,k,l)] = ERI(bflist.bfs[i],bflist.bfs[j],bflist.bfs[k],bflist.bfs[l])\n",
      "    end\n",
      "    return ints2e\n",
      "end\n",
      "    "
     ],
     "language": "python",
     "metadata": {},
     "outputs": [
      {
       "metadata": {},
       "output_type": "pyout",
       "prompt_number": 115,
       "text": [
        "twoe_int_record (generic function with 2 methods)"
       ]
      }
     ],
     "prompt_number": 115
    },
    {
     "cell_type": "code",
     "collapsed": false,
     "input": [
      "function make2JmK(D,Ints)\n",
      "    n = size(D,1)\n",
      "    G = Array(Float64,(n,n))\n",
      "    D1 = reshape(D,n*n)\n",
      "    temp = Array(Float64,n*n)\n",
      "    for (i,j) in pairs(n)\n",
      "        kl = 1\n",
      "        for (k,l) in pairs(n,\"rect\")\n",
      "            temp[kl] = 2*Ints[iindex(i,j,k,l)]-Ints[iindex(i,k,j,l)]\n",
      "            kl += 1\n",
      "        end\n",
      "        G[i,j] = G[j,i] = dot(D1,temp)\n",
      "    end\n",
      "    return G\n",
      "end\n",
      "\n",
      "dmat(U,nocc) = U[:,1:nocc]*U[:,1:nocc]'"
     ],
     "language": "python",
     "metadata": {},
     "outputs": [
      {
       "metadata": {},
       "output_type": "pyout",
       "prompt_number": 116,
       "text": [
        "dmat (generic function with 1 method)"
       ]
      }
     ],
     "prompt_number": 116
    },
    {
     "cell_type": "code",
     "collapsed": false,
     "input": [
      "function rhf(mol::Molecule,MaxIter::Int64=8)\n",
      "    bfs = build_basis(mol)\n",
      "    S,T,V = all_1e_ints(bfs,mol)\n",
      "    Ints = all_twoe_ints(bfs)\n",
      "    h = T+V\n",
      "    E,U = eig(h,S)\n",
      "    Enuke = nuclear_repulsion(mol)\n",
      "    nclosed,nopen = divrem(nel(mol),2)\n",
      "    Eold = 0\n",
      "    Energy = 0\n",
      "    for iter in 1:MaxIter\n",
      "        D = dmat(U,nclosed)\n",
      "        G = make2JmK(D,Ints)\n",
      "        H = h+G\n",
      "        E,U = eig(H,S)\n",
      "        Energy = Enuke + trace2(D,h) + trace2(D,H)\n",
      "        println(\"HF: $iter  $Energy\")\n",
      "        if isapprox(Energy,Eold)\n",
      "            break\n",
      "        end\n",
      "        Eold  = Energy\n",
      "    end\n",
      "    return Energy,E,U\n",
      "end"
     ],
     "language": "python",
     "metadata": {},
     "outputs": [
      {
       "metadata": {},
       "output_type": "pyout",
       "prompt_number": 121,
       "text": [
        "rhf (generic function with 2 methods)"
       ]
      }
     ],
     "prompt_number": 121
    },
    {
     "cell_type": "code",
     "collapsed": false,
     "input": [
      "Energy, E, U = rhf(h2)\n",
      "@assert isapprox(Energy,-1.1170996)"
     ],
     "language": "python",
     "metadata": {},
     "outputs": [
      {
       "output_type": "stream",
       "stream": "stdout",
       "text": [
        "HF: 1  -1.1170995840590683\n"
       ]
      },
      {
       "output_type": "stream",
       "stream": "stdout",
       "text": [
        "HF: 2  -1.117099584059068\n"
       ]
      }
     ],
     "prompt_number": 126
    }
   ],
   "metadata": {}
  }
 ]
}